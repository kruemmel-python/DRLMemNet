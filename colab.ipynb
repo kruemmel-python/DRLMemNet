{
  "nbformat": 4,
  "nbformat_minor": 0,
  "metadata": {
    "colab": {
      "provenance": [],
      "gpuType": "T4",
      "authorship_tag": "ABX9TyPTtxcoroiRVWazGVVeW/AC",
      "include_colab_link": true
    },
    "kernelspec": {
      "name": "python3",
      "display_name": "Python 3"
    },
    "language_info": {
      "name": "python"
    },
    "accelerator": "GPU"
  },
  "cells": [
    {
      "cell_type": "markdown",
      "metadata": {
        "id": "view-in-github",
        "colab_type": "text"
      },
      "source": [
        "<a href=\"https://colab.research.google.com/github/kruemmel-python/DRLMemNet/blob/main/colab.ipynb\" target=\"_parent\"><img src=\"https://colab.research.google.com/assets/colab-badge.svg\" alt=\"Open In Colab\"/></a>"
      ]
    },
    {
      "cell_type": "code",
      "execution_count": 5,
      "metadata": {
        "colab": {
          "base_uri": "https://localhost:8080/",
          "height": 1000
        },
        "id": "ipSBQ8axa4Wk",
        "outputId": "948ea881-e808-4be7-9cdc-568bac36ad55"
      },
      "outputs": [
        {
          "output_type": "stream",
          "name": "stderr",
          "text": [
            "[I 2025-01-21 01:22:42,020] A new study created in memory with name: no-name-b494b2fe-8d14-4baf-ba49-5424b90a6402\n"
          ]
        },
        {
          "output_type": "stream",
          "name": "stdout",
          "text": [
            "Gerät: cuda\n",
            "Seed gesetzt.\n",
            "train_model() gestartet.\n"
          ]
        },
        {
          "output_type": "stream",
          "name": "stderr",
          "text": [
            "Epoche 001 (Training): 100%|██████████| 120/120 [00:17<00:00,  6.94it/s, loss=0.4573]\n",
            "Evaluierung: 100%|██████████| 17/17 [00:00<00:00, 19.03it/s]\n"
          ]
        },
        {
          "output_type": "stream",
          "name": "stdout",
          "text": [
            "Testverlust: 0.4329, Testgenauigkeit: 0.2150, Test F1-Score: 0.1245\n"
          ]
        },
        {
          "output_type": "stream",
          "name": "stderr",
          "text": [
            "Epoche 002 (Training): 100%|██████████| 120/120 [00:17<00:00,  6.96it/s, loss=0.4572]\n",
            "Evaluierung: 100%|██████████| 17/17 [00:00<00:00, 20.63it/s]\n"
          ]
        },
        {
          "output_type": "stream",
          "name": "stdout",
          "text": [
            "Testverlust: 0.4123, Testgenauigkeit: 0.2220, Test F1-Score: 0.1265\n"
          ]
        },
        {
          "output_type": "stream",
          "name": "stderr",
          "text": [
            "Epoche 003 (Training): 100%|██████████| 120/120 [00:17<00:00,  6.74it/s, loss=0.4113]\n",
            "Evaluierung: 100%|██████████| 17/17 [00:00<00:00, 20.44it/s]\n"
          ]
        },
        {
          "output_type": "stream",
          "name": "stdout",
          "text": [
            "Testverlust: 0.4097, Testgenauigkeit: 0.2248, Test F1-Score: 0.1222\n"
          ]
        },
        {
          "output_type": "stream",
          "name": "stderr",
          "text": [
            "Epoche 004 (Training): 100%|██████████| 120/120 [00:17<00:00,  6.73it/s, loss=0.4112]\n",
            "Evaluierung: 100%|██████████| 17/17 [00:00<00:00, 20.36it/s]\n"
          ]
        },
        {
          "output_type": "stream",
          "name": "stdout",
          "text": [
            "Testverlust: 0.4110, Testgenauigkeit: 0.2219, Test F1-Score: 0.1277\n"
          ]
        },
        {
          "output_type": "stream",
          "name": "stderr",
          "text": [
            "Epoche 005 (Training): 100%|██████████| 120/120 [00:18<00:00,  6.62it/s, loss=0.4493]\n",
            "Evaluierung: 100%|██████████| 17/17 [00:00<00:00, 20.44it/s]\n"
          ]
        },
        {
          "output_type": "stream",
          "name": "stdout",
          "text": [
            "Testverlust: 0.4068, Testgenauigkeit: 0.2236, Test F1-Score: 0.1315\n"
          ]
        },
        {
          "output_type": "stream",
          "name": "stderr",
          "text": [
            "Epoche 006 (Training): 100%|██████████| 120/120 [00:18<00:00,  6.55it/s, loss=0.5285]\n",
            "Evaluierung: 100%|██████████| 17/17 [00:00<00:00, 20.34it/s]\n"
          ]
        },
        {
          "output_type": "stream",
          "name": "stdout",
          "text": [
            "Testverlust: 0.4053, Testgenauigkeit: 0.2289, Test F1-Score: 0.1377\n"
          ]
        },
        {
          "output_type": "stream",
          "name": "stderr",
          "text": [
            "Epoche 007 (Training): 100%|██████████| 120/120 [00:18<00:00,  6.57it/s, loss=0.4373]\n",
            "Evaluierung: 100%|██████████| 17/17 [00:00<00:00, 19.12it/s]\n"
          ]
        },
        {
          "output_type": "stream",
          "name": "stdout",
          "text": [
            "Testverlust: 0.4033, Testgenauigkeit: 0.2325, Test F1-Score: 0.1399\n"
          ]
        },
        {
          "output_type": "stream",
          "name": "stderr",
          "text": [
            "Epoche 008 (Training): 100%|██████████| 120/120 [00:18<00:00,  6.57it/s, loss=0.3645]\n",
            "Evaluierung: 100%|██████████| 17/17 [00:00<00:00, 19.97it/s]\n"
          ]
        },
        {
          "output_type": "stream",
          "name": "stdout",
          "text": [
            "Testverlust: 0.4029, Testgenauigkeit: 0.2294, Test F1-Score: 0.1353\n"
          ]
        },
        {
          "output_type": "stream",
          "name": "stderr",
          "text": [
            "Epoche 009 (Training): 100%|██████████| 120/120 [00:18<00:00,  6.58it/s, loss=0.2992]\n",
            "Evaluierung: 100%|██████████| 17/17 [00:00<00:00, 20.42it/s]\n"
          ]
        },
        {
          "output_type": "stream",
          "name": "stdout",
          "text": [
            "Testverlust: 0.4026, Testgenauigkeit: 0.2325, Test F1-Score: 0.1363\n"
          ]
        },
        {
          "output_type": "stream",
          "name": "stderr",
          "text": [
            "Epoche 010 (Training): 100%|██████████| 120/120 [00:18<00:00,  6.58it/s, loss=0.4300]\n",
            "Evaluierung: 100%|██████████| 17/17 [00:00<00:00, 20.32it/s]\n"
          ]
        },
        {
          "output_type": "stream",
          "name": "stdout",
          "text": [
            "Testverlust: 0.4023, Testgenauigkeit: 0.2316, Test F1-Score: 0.1357\n"
          ]
        },
        {
          "output_type": "stream",
          "name": "stderr",
          "text": [
            "Epoche 011 (Training): 100%|██████████| 120/120 [00:18<00:00,  6.56it/s, loss=2.0651]\n",
            "Evaluierung: 100%|██████████| 17/17 [00:00<00:00, 20.17it/s]\n"
          ]
        },
        {
          "output_type": "stream",
          "name": "stdout",
          "text": [
            "Testverlust: 1.9916, Testgenauigkeit: 0.1527, Test F1-Score: 0.0469\n"
          ]
        },
        {
          "output_type": "stream",
          "name": "stderr",
          "text": [
            "Epoche 012 (Training): 100%|██████████| 120/120 [00:18<00:00,  6.57it/s, loss=0.3866]\n",
            "Evaluierung: 100%|██████████| 17/17 [00:00<00:00, 18.59it/s]\n"
          ]
        },
        {
          "output_type": "stream",
          "name": "stdout",
          "text": [
            "Testverlust: 0.4046, Testgenauigkeit: 0.2262, Test F1-Score: 0.1308\n"
          ]
        },
        {
          "output_type": "stream",
          "name": "stderr",
          "text": [
            "Epoche 013 (Training): 100%|██████████| 120/120 [00:18<00:00,  6.57it/s, loss=0.4581]\n",
            "Evaluierung: 100%|██████████| 17/17 [00:00<00:00, 20.20it/s]\n"
          ]
        },
        {
          "output_type": "stream",
          "name": "stdout",
          "text": [
            "Testverlust: 0.4023, Testgenauigkeit: 0.2305, Test F1-Score: 0.1375\n"
          ]
        },
        {
          "output_type": "stream",
          "name": "stderr",
          "text": [
            "Epoche 014 (Training): 100%|██████████| 120/120 [00:18<00:00,  6.57it/s, loss=0.5467]\n",
            "Evaluierung: 100%|██████████| 17/17 [00:00<00:00, 20.07it/s]\n"
          ]
        },
        {
          "output_type": "stream",
          "name": "stdout",
          "text": [
            "Testverlust: 0.4021, Testgenauigkeit: 0.2340, Test F1-Score: 0.1443\n"
          ]
        },
        {
          "output_type": "stream",
          "name": "stderr",
          "text": [
            "Epoche 015 (Training): 100%|██████████| 120/120 [00:18<00:00,  6.58it/s, loss=0.4641]\n",
            "Evaluierung: 100%|██████████| 17/17 [00:00<00:00, 20.24it/s]\n"
          ]
        },
        {
          "output_type": "stream",
          "name": "stdout",
          "text": [
            "Testverlust: 0.4024, Testgenauigkeit: 0.2327, Test F1-Score: 0.1433\n"
          ]
        },
        {
          "output_type": "stream",
          "name": "stderr",
          "text": [
            "Epoche 016 (Training): 100%|██████████| 120/120 [00:18<00:00,  6.58it/s, loss=0.5082]\n",
            "Evaluierung: 100%|██████████| 17/17 [00:00<00:00, 19.75it/s]\n"
          ]
        },
        {
          "output_type": "stream",
          "name": "stdout",
          "text": [
            "Testverlust: 0.4026, Testgenauigkeit: 0.2299, Test F1-Score: 0.1481\n"
          ]
        },
        {
          "output_type": "stream",
          "name": "stderr",
          "text": [
            "Epoche 017 (Training): 100%|██████████| 120/120 [00:18<00:00,  6.58it/s, loss=0.4677]\n"
          ]
        },
        {
          "output_type": "stream",
          "name": "stdout",
          "text": [
            "Training wird vorzeitig abgebrochen.\n"
          ]
        },
        {
          "output_type": "stream",
          "name": "stderr",
          "text": [
            "Evaluierung: 100%|██████████| 17/17 [00:00<00:00, 19.03it/s]\n",
            "[I 2025-01-21 01:28:25,122] Trial 0 finished with value: 0.4386917029817899 and parameters: {'embedding_dim': 384, 'memory_size': 512, 'learning_rate': 0.007371855861966839, 'batch_size': 64, 'accumulation_steps': 2, 'epochs': 50, 'write_strength': 0.0118621199535316}. Best is trial 0 with value: 0.4386917029817899.\n"
          ]
        },
        {
          "output_type": "stream",
          "name": "stdout",
          "text": [
            "Testverlust: 0.4020, Testgenauigkeit: 0.2329, Test F1-Score: 0.1455\n"
          ]
        },
        {
          "output_type": "stream",
          "name": "stderr",
          "text": [
            "Epoche 001 (Training): 100%|██████████| 960/960 [00:36<00:00, 26.13it/s, loss=0.6000]\n",
            "Evaluierung: 100%|██████████| 129/129 [00:01<00:00, 78.84it/s]\n"
          ]
        },
        {
          "output_type": "stream",
          "name": "stdout",
          "text": [
            "Testverlust: 0.7263, Testgenauigkeit: 0.0000, Test F1-Score: 0.0000\n"
          ]
        },
        {
          "output_type": "stream",
          "name": "stderr",
          "text": [
            "Epoche 002 (Training): 100%|██████████| 960/960 [00:36<00:00, 26.03it/s, loss=0.3186]\n",
            "Evaluierung: 100%|██████████| 129/129 [00:01<00:00, 78.66it/s]\n"
          ]
        },
        {
          "output_type": "stream",
          "name": "stdout",
          "text": [
            "Testverlust: 0.6645, Testgenauigkeit: 0.0000, Test F1-Score: 0.0000\n"
          ]
        },
        {
          "output_type": "stream",
          "name": "stderr",
          "text": [
            "Epoche 003 (Training): 100%|██████████| 960/960 [00:36<00:00, 26.04it/s, loss=0.5370]\n",
            "Evaluierung: 100%|██████████| 129/129 [00:01<00:00, 78.80it/s]\n"
          ]
        },
        {
          "output_type": "stream",
          "name": "stdout",
          "text": [
            "Testverlust: 0.6243, Testgenauigkeit: 0.0000, Test F1-Score: 0.0000\n"
          ]
        },
        {
          "output_type": "stream",
          "name": "stderr",
          "text": [
            "Epoche 004 (Training): 100%|██████████| 960/960 [00:36<00:00, 26.10it/s, loss=0.4520]\n",
            "Evaluierung: 100%|██████████| 129/129 [00:01<00:00, 74.64it/s]\n"
          ]
        },
        {
          "output_type": "stream",
          "name": "stdout",
          "text": [
            "Testverlust: 0.5966, Testgenauigkeit: 0.0470, Test F1-Score: 0.0199\n"
          ]
        },
        {
          "output_type": "stream",
          "name": "stderr",
          "text": [
            "Epoche 005 (Training): 100%|██████████| 960/960 [00:36<00:00, 26.07it/s, loss=0.7024]\n",
            "Evaluierung: 100%|██████████| 129/129 [00:01<00:00, 72.15it/s]\n"
          ]
        },
        {
          "output_type": "stream",
          "name": "stdout",
          "text": [
            "Testverlust: 0.5836, Testgenauigkeit: 0.0506, Test F1-Score: 0.0235\n"
          ]
        },
        {
          "output_type": "stream",
          "name": "stderr",
          "text": [
            "Epoche 006 (Training): 100%|██████████| 960/960 [00:36<00:00, 26.09it/s, loss=0.6530]\n",
            "Evaluierung: 100%|██████████| 129/129 [00:01<00:00, 79.08it/s]\n"
          ]
        },
        {
          "output_type": "stream",
          "name": "stdout",
          "text": [
            "Testverlust: 0.5722, Testgenauigkeit: 0.0506, Test F1-Score: 0.0235\n"
          ]
        },
        {
          "output_type": "stream",
          "name": "stderr",
          "text": [
            "Epoche 007 (Training): 100%|██████████| 960/960 [00:36<00:00, 26.09it/s, loss=0.5356]\n",
            "Evaluierung: 100%|██████████| 129/129 [00:01<00:00, 78.13it/s]\n"
          ]
        },
        {
          "output_type": "stream",
          "name": "stdout",
          "text": [
            "Testverlust: 0.5675, Testgenauigkeit: 0.0506, Test F1-Score: 0.0235\n"
          ]
        },
        {
          "output_type": "stream",
          "name": "stderr",
          "text": [
            "Epoche 008 (Training): 100%|██████████| 960/960 [00:36<00:00, 26.02it/s, loss=0.2613]\n",
            "Evaluierung: 100%|██████████| 129/129 [00:01<00:00, 78.54it/s]\n"
          ]
        },
        {
          "output_type": "stream",
          "name": "stdout",
          "text": [
            "Testverlust: 0.5656, Testgenauigkeit: 0.0506, Test F1-Score: 0.0235\n"
          ]
        },
        {
          "output_type": "stream",
          "name": "stderr",
          "text": [
            "Epoche 009 (Training): 100%|██████████| 960/960 [00:36<00:00, 26.02it/s, loss=0.4425]\n",
            "Evaluierung: 100%|██████████| 129/129 [00:01<00:00, 78.68it/s]\n"
          ]
        },
        {
          "output_type": "stream",
          "name": "stdout",
          "text": [
            "Testverlust: 0.5646, Testgenauigkeit: 0.0470, Test F1-Score: 0.0199\n"
          ]
        },
        {
          "output_type": "stream",
          "name": "stderr",
          "text": [
            "Epoche 010 (Training): 100%|██████████| 960/960 [00:36<00:00, 26.06it/s, loss=0.3555]\n",
            "Evaluierung: 100%|██████████| 129/129 [00:01<00:00, 71.37it/s]\n"
          ]
        },
        {
          "output_type": "stream",
          "name": "stdout",
          "text": [
            "Testverlust: 0.5624, Testgenauigkeit: 0.0506, Test F1-Score: 0.0235\n"
          ]
        },
        {
          "output_type": "stream",
          "name": "stderr",
          "text": [
            "Epoche 011 (Training): 100%|██████████| 960/960 [00:36<00:00, 26.11it/s, loss=0.4013]\n",
            "Evaluierung: 100%|██████████| 129/129 [00:01<00:00, 77.28it/s]\n"
          ]
        },
        {
          "output_type": "stream",
          "name": "stdout",
          "text": [
            "Testverlust: 0.5619, Testgenauigkeit: 0.0506, Test F1-Score: 0.0235\n"
          ]
        },
        {
          "output_type": "stream",
          "name": "stderr",
          "text": [
            "Epoche 012 (Training): 100%|██████████| 960/960 [00:36<00:00, 26.10it/s, loss=0.5096]\n",
            "Evaluierung: 100%|██████████| 129/129 [00:01<00:00, 77.98it/s]\n"
          ]
        },
        {
          "output_type": "stream",
          "name": "stdout",
          "text": [
            "Testverlust: 0.5614, Testgenauigkeit: 0.0506, Test F1-Score: 0.0235\n"
          ]
        },
        {
          "output_type": "stream",
          "name": "stderr",
          "text": [
            "Epoche 013 (Training): 100%|██████████| 960/960 [00:36<00:00, 26.06it/s, loss=0.4025]\n",
            "Evaluierung: 100%|██████████| 129/129 [00:01<00:00, 77.96it/s]\n"
          ]
        },
        {
          "output_type": "stream",
          "name": "stdout",
          "text": [
            "Testverlust: 0.5600, Testgenauigkeit: 0.0506, Test F1-Score: 0.0235\n"
          ]
        },
        {
          "output_type": "stream",
          "name": "stderr",
          "text": [
            "Epoche 014 (Training): 100%|██████████| 960/960 [00:36<00:00, 26.03it/s, loss=0.3201]\n",
            "Evaluierung: 100%|██████████| 129/129 [00:01<00:00, 78.05it/s]\n"
          ]
        },
        {
          "output_type": "stream",
          "name": "stdout",
          "text": [
            "Testverlust: 0.5577, Testgenauigkeit: 0.0470, Test F1-Score: 0.0199\n"
          ]
        },
        {
          "output_type": "stream",
          "name": "stderr",
          "text": [
            "Epoche 015 (Training): 100%|██████████| 960/960 [00:36<00:00, 26.02it/s, loss=0.6328]\n",
            "Evaluierung: 100%|██████████| 129/129 [00:01<00:00, 70.18it/s]\n"
          ]
        },
        {
          "output_type": "stream",
          "name": "stdout",
          "text": [
            "Testverlust: 0.5541, Testgenauigkeit: 0.1078, Test F1-Score: 0.0839\n"
          ]
        },
        {
          "output_type": "stream",
          "name": "stderr",
          "text": [
            "Epoche 016 (Training): 100%|██████████| 960/960 [00:36<00:00, 26.09it/s, loss=0.6975]\n",
            "Evaluierung: 100%|██████████| 129/129 [00:01<00:00, 77.27it/s]\n"
          ]
        },
        {
          "output_type": "stream",
          "name": "stdout",
          "text": [
            "Testverlust: 0.5510, Testgenauigkeit: 0.1078, Test F1-Score: 0.0839\n"
          ]
        },
        {
          "output_type": "stream",
          "name": "stderr",
          "text": [
            "Epoche 017 (Training): 100%|██████████| 960/960 [00:36<00:00, 26.01it/s, loss=0.4266]\n",
            "Evaluierung: 100%|██████████| 129/129 [00:01<00:00, 76.71it/s]\n"
          ]
        },
        {
          "output_type": "stream",
          "name": "stdout",
          "text": [
            "Testverlust: 0.5479, Testgenauigkeit: 0.1078, Test F1-Score: 0.0839\n"
          ]
        },
        {
          "output_type": "stream",
          "name": "stderr",
          "text": [
            "Epoche 018 (Training): 100%|██████████| 960/960 [00:36<00:00, 26.10it/s, loss=0.7434]\n",
            "Evaluierung: 100%|██████████| 129/129 [00:01<00:00, 76.19it/s]\n"
          ]
        },
        {
          "output_type": "stream",
          "name": "stdout",
          "text": [
            "Testverlust: 0.5456, Testgenauigkeit: 0.1078, Test F1-Score: 0.0839\n"
          ]
        },
        {
          "output_type": "stream",
          "name": "stderr",
          "text": [
            "Epoche 019 (Training): 100%|██████████| 960/960 [00:36<00:00, 26.02it/s, loss=0.2597]\n",
            "Evaluierung: 100%|██████████| 129/129 [00:01<00:00, 77.13it/s]\n"
          ]
        },
        {
          "output_type": "stream",
          "name": "stdout",
          "text": [
            "Testverlust: 0.5425, Testgenauigkeit: 0.1078, Test F1-Score: 0.0839\n"
          ]
        },
        {
          "output_type": "stream",
          "name": "stderr",
          "text": [
            "Epoche 020 (Training): 100%|██████████| 960/960 [00:36<00:00, 26.01it/s, loss=0.9133]\n",
            "Evaluierung: 100%|██████████| 129/129 [00:01<00:00, 72.23it/s]\n"
          ]
        },
        {
          "output_type": "stream",
          "name": "stdout",
          "text": [
            "Testverlust: 0.5398, Testgenauigkeit: 0.1337, Test F1-Score: 0.0965\n"
          ]
        },
        {
          "output_type": "stream",
          "name": "stderr",
          "text": [
            "Epoche 021 (Training): 100%|██████████| 960/960 [00:36<00:00, 26.07it/s, loss=0.3895]\n",
            "Evaluierung: 100%|██████████| 129/129 [00:01<00:00, 77.86it/s]\n"
          ]
        },
        {
          "output_type": "stream",
          "name": "stdout",
          "text": [
            "Testverlust: 0.5381, Testgenauigkeit: 0.1581, Test F1-Score: 0.1217\n"
          ]
        },
        {
          "output_type": "stream",
          "name": "stderr",
          "text": [
            "Epoche 022 (Training): 100%|██████████| 960/960 [00:36<00:00, 26.05it/s, loss=0.7779]\n",
            "Evaluierung: 100%|██████████| 129/129 [00:01<00:00, 77.62it/s]\n"
          ]
        },
        {
          "output_type": "stream",
          "name": "stdout",
          "text": [
            "Testverlust: 0.5381, Testgenauigkeit: 0.1581, Test F1-Score: 0.1217\n"
          ]
        },
        {
          "output_type": "stream",
          "name": "stderr",
          "text": [
            "Epoche 023 (Training): 100%|██████████| 960/960 [00:36<00:00, 25.95it/s, loss=0.9120]\n",
            "Evaluierung: 100%|██████████| 129/129 [00:01<00:00, 76.65it/s]\n"
          ]
        },
        {
          "output_type": "stream",
          "name": "stdout",
          "text": [
            "Testverlust: 0.5356, Testgenauigkeit: 0.1581, Test F1-Score: 0.1217\n"
          ]
        },
        {
          "output_type": "stream",
          "name": "stderr",
          "text": [
            "Epoche 024 (Training): 100%|██████████| 960/960 [00:36<00:00, 26.07it/s, loss=0.7067]\n",
            "Evaluierung: 100%|██████████| 129/129 [00:01<00:00, 78.49it/s]\n"
          ]
        },
        {
          "output_type": "stream",
          "name": "stdout",
          "text": [
            "Testverlust: 0.5387, Testgenauigkeit: 0.1581, Test F1-Score: 0.1217\n"
          ]
        },
        {
          "output_type": "stream",
          "name": "stderr",
          "text": [
            "Epoche 025 (Training): 100%|██████████| 960/960 [00:36<00:00, 26.00it/s, loss=0.2506]\n",
            "Evaluierung: 100%|██████████| 129/129 [00:01<00:00, 73.54it/s]\n"
          ]
        },
        {
          "output_type": "stream",
          "name": "stdout",
          "text": [
            "Testverlust: 0.5334, Testgenauigkeit: 0.1581, Test F1-Score: 0.1217\n"
          ]
        },
        {
          "output_type": "stream",
          "name": "stderr",
          "text": [
            "Epoche 026 (Training): 100%|██████████| 960/960 [00:36<00:00, 26.05it/s, loss=0.7676]\n",
            "Evaluierung: 100%|██████████| 129/129 [00:01<00:00, 72.65it/s]\n"
          ]
        },
        {
          "output_type": "stream",
          "name": "stdout",
          "text": [
            "Testverlust: 0.5329, Testgenauigkeit: 0.1581, Test F1-Score: 0.1217\n"
          ]
        },
        {
          "output_type": "stream",
          "name": "stderr",
          "text": [
            "Epoche 027 (Training): 100%|██████████| 960/960 [00:36<00:00, 26.11it/s, loss=0.4115]\n",
            "Evaluierung: 100%|██████████| 129/129 [00:01<00:00, 77.37it/s]\n"
          ]
        },
        {
          "output_type": "stream",
          "name": "stdout",
          "text": [
            "Testverlust: 0.5324, Testgenauigkeit: 0.1581, Test F1-Score: 0.1217\n"
          ]
        },
        {
          "output_type": "stream",
          "name": "stderr",
          "text": [
            "Epoche 028 (Training): 100%|██████████| 960/960 [00:36<00:00, 26.02it/s, loss=0.7161]\n",
            "Evaluierung: 100%|██████████| 129/129 [00:01<00:00, 78.14it/s]\n"
          ]
        },
        {
          "output_type": "stream",
          "name": "stdout",
          "text": [
            "Testverlust: 0.5324, Testgenauigkeit: 0.1581, Test F1-Score: 0.1217\n"
          ]
        },
        {
          "output_type": "stream",
          "name": "stderr",
          "text": [
            "Epoche 029 (Training): 100%|██████████| 960/960 [00:36<00:00, 26.08it/s, loss=0.5788]\n",
            "Evaluierung: 100%|██████████| 129/129 [00:01<00:00, 78.03it/s]\n"
          ]
        },
        {
          "output_type": "stream",
          "name": "stdout",
          "text": [
            "Testverlust: 0.5320, Testgenauigkeit: 0.1581, Test F1-Score: 0.1217\n"
          ]
        },
        {
          "output_type": "stream",
          "name": "stderr",
          "text": [
            "Epoche 030 (Training): 100%|██████████| 960/960 [00:36<00:00, 26.08it/s, loss=0.8953]\n",
            "Evaluierung: 100%|██████████| 129/129 [00:01<00:00, 78.48it/s]\n"
          ]
        },
        {
          "output_type": "stream",
          "name": "stdout",
          "text": [
            "Testverlust: 0.5323, Testgenauigkeit: 0.1581, Test F1-Score: 0.1217\n"
          ]
        },
        {
          "output_type": "stream",
          "name": "stderr",
          "text": [
            "Epoche 031 (Training): 100%|██████████| 960/960 [00:36<00:00, 26.05it/s, loss=0.4136]\n",
            "Evaluierung: 100%|██████████| 129/129 [00:01<00:00, 71.72it/s]\n"
          ]
        },
        {
          "output_type": "stream",
          "name": "stdout",
          "text": [
            "Testverlust: 0.5322, Testgenauigkeit: 0.1581, Test F1-Score: 0.1217\n"
          ]
        },
        {
          "output_type": "stream",
          "name": "stderr",
          "text": [
            "Epoche 032 (Training): 100%|██████████| 960/960 [00:36<00:00, 26.10it/s, loss=0.9098]\n",
            "Evaluierung: 100%|██████████| 129/129 [00:01<00:00, 78.49it/s]\n"
          ]
        },
        {
          "output_type": "stream",
          "name": "stdout",
          "text": [
            "Testverlust: 0.5320, Testgenauigkeit: 0.1581, Test F1-Score: 0.1217\n"
          ]
        },
        {
          "output_type": "stream",
          "name": "stderr",
          "text": [
            "Epoche 033 (Training): 100%|██████████| 960/960 [00:36<00:00, 26.17it/s, loss=0.8117]\n",
            "Evaluierung: 100%|██████████| 129/129 [00:01<00:00, 78.87it/s]\n"
          ]
        },
        {
          "output_type": "stream",
          "name": "stdout",
          "text": [
            "Testverlust: 0.5322, Testgenauigkeit: 0.1581, Test F1-Score: 0.1217\n"
          ]
        },
        {
          "output_type": "stream",
          "name": "stderr",
          "text": [
            "Epoche 034 (Training): 100%|██████████| 960/960 [00:36<00:00, 26.03it/s, loss=0.8100]\n"
          ]
        },
        {
          "output_type": "stream",
          "name": "stdout",
          "text": [
            "Training wird vorzeitig abgebrochen.\n"
          ]
        },
        {
          "output_type": "stream",
          "name": "stderr",
          "text": [
            "Evaluierung: 100%|██████████| 129/129 [00:01<00:00, 78.76it/s]\n",
            "[I 2025-01-21 01:51:36,203] Trial 1 finished with value: 0.5768057572034498 and parameters: {'embedding_dim': 1024, 'memory_size': 1536, 'learning_rate': 3.8983431890873985e-05, 'batch_size': 8, 'accumulation_steps': 3, 'epochs': 150, 'write_strength': 0.06545849603460915}. Best is trial 0 with value: 0.4386917029817899.\n"
          ]
        },
        {
          "output_type": "stream",
          "name": "stdout",
          "text": [
            "Testverlust: 0.5317, Testgenauigkeit: 0.1581, Test F1-Score: 0.1217\n"
          ]
        },
        {
          "output_type": "stream",
          "name": "stderr",
          "text": [
            "Epoche 001 (Training): 100%|██████████| 120/120 [00:25<00:00,  4.63it/s, loss=0.6584]\n",
            "Evaluierung: 100%|██████████| 17/17 [00:01<00:00, 16.68it/s]\n"
          ]
        },
        {
          "output_type": "stream",
          "name": "stdout",
          "text": [
            "Testverlust: 0.6881, Testgenauigkeit: 0.0000, Test F1-Score: 0.0000\n"
          ]
        },
        {
          "output_type": "stream",
          "name": "stderr",
          "text": [
            "Epoche 002 (Training): 100%|██████████| 120/120 [00:26<00:00,  4.62it/s, loss=0.6271]\n",
            "Evaluierung: 100%|██████████| 17/17 [00:01<00:00, 16.39it/s]\n"
          ]
        },
        {
          "output_type": "stream",
          "name": "stdout",
          "text": [
            "Testverlust: 0.5291, Testgenauigkeit: 0.0000, Test F1-Score: 0.0000\n"
          ]
        },
        {
          "output_type": "stream",
          "name": "stderr",
          "text": [
            "Epoche 003 (Training): 100%|██████████| 120/120 [00:25<00:00,  4.62it/s, loss=0.5061]\n",
            "Evaluierung: 100%|██████████| 17/17 [00:01<00:00, 16.93it/s]\n"
          ]
        },
        {
          "output_type": "stream",
          "name": "stdout",
          "text": [
            "Testverlust: 0.4774, Testgenauigkeit: 0.0382, Test F1-Score: 0.0133\n"
          ]
        },
        {
          "output_type": "stream",
          "name": "stderr",
          "text": [
            "Epoche 004 (Training): 100%|██████████| 120/120 [00:25<00:00,  4.62it/s, loss=0.6064]\n",
            "Evaluierung: 100%|██████████| 17/17 [00:01<00:00, 16.86it/s]\n"
          ]
        },
        {
          "output_type": "stream",
          "name": "stdout",
          "text": [
            "Testverlust: 0.4536, Testgenauigkeit: 0.1859, Test F1-Score: 0.0903\n"
          ]
        },
        {
          "output_type": "stream",
          "name": "stderr",
          "text": [
            "Epoche 005 (Training): 100%|██████████| 120/120 [00:25<00:00,  4.62it/s, loss=0.4881]\n",
            "Evaluierung: 100%|██████████| 17/17 [00:01<00:00, 16.24it/s]\n"
          ]
        },
        {
          "output_type": "stream",
          "name": "stdout",
          "text": [
            "Testverlust: 0.4484, Testgenauigkeit: 0.1755, Test F1-Score: 0.0902\n"
          ]
        },
        {
          "output_type": "stream",
          "name": "stderr",
          "text": [
            "Epoche 006 (Training): 100%|██████████| 120/120 [00:25<00:00,  4.62it/s, loss=0.3718]\n",
            "Evaluierung: 100%|██████████| 17/17 [00:01<00:00, 16.69it/s]\n"
          ]
        },
        {
          "output_type": "stream",
          "name": "stdout",
          "text": [
            "Testverlust: 0.4456, Testgenauigkeit: 0.1808, Test F1-Score: 0.0901\n"
          ]
        },
        {
          "output_type": "stream",
          "name": "stderr",
          "text": [
            "Epoche 007 (Training): 100%|██████████| 120/120 [00:25<00:00,  4.62it/s, loss=0.4899]\n",
            "Evaluierung: 100%|██████████| 17/17 [00:01<00:00, 16.85it/s]\n"
          ]
        },
        {
          "output_type": "stream",
          "name": "stdout",
          "text": [
            "Testverlust: 0.4450, Testgenauigkeit: 0.1808, Test F1-Score: 0.0902\n"
          ]
        },
        {
          "output_type": "stream",
          "name": "stderr",
          "text": [
            "Epoche 008 (Training): 100%|██████████| 120/120 [00:26<00:00,  4.61it/s, loss=0.4460]\n",
            "Evaluierung: 100%|██████████| 17/17 [00:01<00:00, 16.74it/s]\n"
          ]
        },
        {
          "output_type": "stream",
          "name": "stdout",
          "text": [
            "Testverlust: 0.4462, Testgenauigkeit: 0.1989, Test F1-Score: 0.1088\n"
          ]
        },
        {
          "output_type": "stream",
          "name": "stderr",
          "text": [
            "Epoche 009 (Training): 100%|██████████| 120/120 [00:26<00:00,  4.61it/s, loss=0.5552]\n",
            "Evaluierung: 100%|██████████| 17/17 [00:01<00:00, 16.56it/s]\n"
          ]
        },
        {
          "output_type": "stream",
          "name": "stdout",
          "text": [
            "Testverlust: 0.4510, Testgenauigkeit: 0.1659, Test F1-Score: 0.0907\n"
          ]
        },
        {
          "output_type": "stream",
          "name": "stderr",
          "text": [
            "Epoche 010 (Training): 100%|██████████| 120/120 [00:26<00:00,  4.61it/s, loss=0.4696]\n",
            "Evaluierung: 100%|██████████| 17/17 [00:01<00:00, 16.17it/s]\n"
          ]
        },
        {
          "output_type": "stream",
          "name": "stdout",
          "text": [
            "Testverlust: 0.4742, Testgenauigkeit: 0.1376, Test F1-Score: 0.1064\n"
          ]
        },
        {
          "output_type": "stream",
          "name": "stderr",
          "text": [
            "Epoche 011 (Training): 100%|██████████| 120/120 [00:25<00:00,  4.62it/s, loss=0.6508]\n",
            "Evaluierung: 100%|██████████| 17/17 [00:01<00:00, 16.62it/s]\n"
          ]
        },
        {
          "output_type": "stream",
          "name": "stdout",
          "text": [
            "Testverlust: 0.5631, Testgenauigkeit: 0.1196, Test F1-Score: 0.0840\n"
          ]
        },
        {
          "output_type": "stream",
          "name": "stderr",
          "text": [
            "Epoche 012 (Training): 100%|██████████| 120/120 [00:25<00:00,  4.62it/s, loss=0.4843]\n",
            "Evaluierung: 100%|██████████| 17/17 [00:01<00:00, 16.72it/s]\n"
          ]
        },
        {
          "output_type": "stream",
          "name": "stdout",
          "text": [
            "Testverlust: 0.4878, Testgenauigkeit: 0.1425, Test F1-Score: 0.1077\n"
          ]
        },
        {
          "output_type": "stream",
          "name": "stderr",
          "text": [
            "Epoche 013 (Training): 100%|██████████| 120/120 [00:25<00:00,  4.62it/s, loss=0.4720]\n",
            "Evaluierung: 100%|██████████| 17/17 [00:01<00:00, 16.87it/s]\n"
          ]
        },
        {
          "output_type": "stream",
          "name": "stdout",
          "text": [
            "Testverlust: 0.4485, Testgenauigkeit: 0.1480, Test F1-Score: 0.0957\n"
          ]
        },
        {
          "output_type": "stream",
          "name": "stderr",
          "text": [
            "Epoche 014 (Training): 100%|██████████| 120/120 [00:25<00:00,  4.62it/s, loss=0.3903]\n",
            "Evaluierung: 100%|██████████| 17/17 [00:01<00:00, 16.07it/s]\n"
          ]
        },
        {
          "output_type": "stream",
          "name": "stdout",
          "text": [
            "Testverlust: 0.4434, Testgenauigkeit: 0.2112, Test F1-Score: 0.1063\n"
          ]
        },
        {
          "output_type": "stream",
          "name": "stderr",
          "text": [
            "Epoche 015 (Training): 100%|██████████| 120/120 [00:25<00:00,  4.63it/s, loss=0.5487]\n",
            "Evaluierung: 100%|██████████| 17/17 [00:01<00:00, 16.77it/s]\n"
          ]
        },
        {
          "output_type": "stream",
          "name": "stdout",
          "text": [
            "Testverlust: 0.4411, Testgenauigkeit: 0.2112, Test F1-Score: 0.1063\n"
          ]
        },
        {
          "output_type": "stream",
          "name": "stderr",
          "text": [
            "Epoche 016 (Training): 100%|██████████| 120/120 [00:25<00:00,  4.63it/s, loss=0.4012]\n",
            "Evaluierung: 100%|██████████| 17/17 [00:01<00:00, 16.68it/s]\n"
          ]
        },
        {
          "output_type": "stream",
          "name": "stdout",
          "text": [
            "Testverlust: 0.4393, Testgenauigkeit: 0.2112, Test F1-Score: 0.1063\n"
          ]
        },
        {
          "output_type": "stream",
          "name": "stderr",
          "text": [
            "Epoche 017 (Training): 100%|██████████| 120/120 [00:25<00:00,  4.63it/s, loss=0.6350]\n",
            "Evaluierung: 100%|██████████| 17/17 [00:01<00:00, 16.95it/s]\n"
          ]
        },
        {
          "output_type": "stream",
          "name": "stdout",
          "text": [
            "Testverlust: 0.4364, Testgenauigkeit: 0.2112, Test F1-Score: 0.1063\n"
          ]
        },
        {
          "output_type": "stream",
          "name": "stderr",
          "text": [
            "Epoche 018 (Training): 100%|██████████| 120/120 [00:25<00:00,  4.62it/s, loss=0.4573]\n",
            "Evaluierung: 100%|██████████| 17/17 [00:01<00:00, 16.12it/s]\n"
          ]
        },
        {
          "output_type": "stream",
          "name": "stdout",
          "text": [
            "Testverlust: 0.4339, Testgenauigkeit: 0.2110, Test F1-Score: 0.1063\n"
          ]
        },
        {
          "output_type": "stream",
          "name": "stderr",
          "text": [
            "Epoche 019 (Training): 100%|██████████| 120/120 [00:25<00:00,  4.63it/s, loss=0.3952]\n",
            "Evaluierung: 100%|██████████| 17/17 [00:01<00:00, 16.90it/s]\n"
          ]
        },
        {
          "output_type": "stream",
          "name": "stdout",
          "text": [
            "Testverlust: 0.4305, Testgenauigkeit: 0.2110, Test F1-Score: 0.1063\n"
          ]
        },
        {
          "output_type": "stream",
          "name": "stderr",
          "text": [
            "Epoche 020 (Training): 100%|██████████| 120/120 [00:25<00:00,  4.63it/s, loss=0.4417]\n",
            "Evaluierung: 100%|██████████| 17/17 [00:01<00:00, 16.83it/s]\n"
          ]
        },
        {
          "output_type": "stream",
          "name": "stdout",
          "text": [
            "Testverlust: 0.4282, Testgenauigkeit: 0.2110, Test F1-Score: 0.1063\n"
          ]
        },
        {
          "output_type": "stream",
          "name": "stderr",
          "text": [
            "Epoche 021 (Training): 100%|██████████| 120/120 [00:25<00:00,  4.63it/s, loss=0.4125]\n",
            "Evaluierung: 100%|██████████| 17/17 [00:01<00:00, 16.39it/s]\n"
          ]
        },
        {
          "output_type": "stream",
          "name": "stdout",
          "text": [
            "Testverlust: 0.4244, Testgenauigkeit: 0.2110, Test F1-Score: 0.1076\n"
          ]
        },
        {
          "output_type": "stream",
          "name": "stderr",
          "text": [
            "Epoche 022 (Training): 100%|██████████| 120/120 [00:25<00:00,  4.62it/s, loss=0.5201]\n",
            "Evaluierung: 100%|██████████| 17/17 [00:01<00:00, 16.68it/s]\n"
          ]
        },
        {
          "output_type": "stream",
          "name": "stdout",
          "text": [
            "Testverlust: 0.4219, Testgenauigkeit: 0.2111, Test F1-Score: 0.1081\n"
          ]
        },
        {
          "output_type": "stream",
          "name": "stderr",
          "text": [
            "Epoche 023 (Training): 100%|██████████| 120/120 [00:25<00:00,  4.62it/s, loss=0.3604]\n",
            "Evaluierung: 100%|██████████| 17/17 [00:01<00:00, 16.87it/s]\n"
          ]
        },
        {
          "output_type": "stream",
          "name": "stdout",
          "text": [
            "Testverlust: 0.4197, Testgenauigkeit: 0.2083, Test F1-Score: 0.1079\n"
          ]
        },
        {
          "output_type": "stream",
          "name": "stderr",
          "text": [
            "Epoche 024 (Training): 100%|██████████| 120/120 [00:25<00:00,  4.63it/s, loss=0.3987]\n",
            "Evaluierung: 100%|██████████| 17/17 [00:01<00:00, 16.85it/s]\n"
          ]
        },
        {
          "output_type": "stream",
          "name": "stdout",
          "text": [
            "Testverlust: 0.4163, Testgenauigkeit: 0.2123, Test F1-Score: 0.1145\n"
          ]
        },
        {
          "output_type": "stream",
          "name": "stderr",
          "text": [
            "Epoche 025 (Training): 100%|██████████| 120/120 [00:25<00:00,  4.63it/s, loss=0.4461]\n",
            "Evaluierung: 100%|██████████| 17/17 [00:01<00:00, 16.05it/s]\n"
          ]
        },
        {
          "output_type": "stream",
          "name": "stdout",
          "text": [
            "Testverlust: 0.4146, Testgenauigkeit: 0.2131, Test F1-Score: 0.1144\n"
          ]
        },
        {
          "output_type": "stream",
          "name": "stderr",
          "text": [
            "Epoche 026 (Training): 100%|██████████| 120/120 [00:25<00:00,  4.62it/s, loss=0.4353]\n",
            "Evaluierung: 100%|██████████| 17/17 [00:01<00:00, 16.77it/s]\n"
          ]
        },
        {
          "output_type": "stream",
          "name": "stdout",
          "text": [
            "Testverlust: 0.4131, Testgenauigkeit: 0.2122, Test F1-Score: 0.1147\n"
          ]
        },
        {
          "output_type": "stream",
          "name": "stderr",
          "text": [
            "Epoche 027 (Training): 100%|██████████| 120/120 [00:25<00:00,  4.62it/s, loss=0.4532]\n",
            "Evaluierung: 100%|██████████| 17/17 [00:01<00:00, 16.73it/s]\n"
          ]
        },
        {
          "output_type": "stream",
          "name": "stdout",
          "text": [
            "Testverlust: 0.4124, Testgenauigkeit: 0.2129, Test F1-Score: 0.1144\n"
          ]
        },
        {
          "output_type": "stream",
          "name": "stderr",
          "text": [
            "Epoche 028 (Training): 100%|██████████| 120/120 [00:25<00:00,  4.62it/s, loss=0.3685]\n",
            "Evaluierung: 100%|██████████| 17/17 [00:01<00:00, 16.58it/s]\n"
          ]
        },
        {
          "output_type": "stream",
          "name": "stdout",
          "text": [
            "Testverlust: 0.4125, Testgenauigkeit: 0.2126, Test F1-Score: 0.1137\n"
          ]
        },
        {
          "output_type": "stream",
          "name": "stderr",
          "text": [
            "Epoche 029 (Training): 100%|██████████| 120/120 [00:25<00:00,  4.62it/s, loss=0.3784]\n",
            "Evaluierung: 100%|██████████| 17/17 [00:01<00:00, 16.05it/s]\n"
          ]
        },
        {
          "output_type": "stream",
          "name": "stdout",
          "text": [
            "Testverlust: 0.4172, Testgenauigkeit: 0.2114, Test F1-Score: 0.1094\n"
          ]
        },
        {
          "output_type": "stream",
          "name": "stderr",
          "text": [
            "Epoche 030 (Training): 100%|██████████| 120/120 [00:25<00:00,  4.62it/s, loss=0.5128]\n",
            "Evaluierung: 100%|██████████| 17/17 [00:01<00:00, 16.62it/s]\n"
          ]
        },
        {
          "output_type": "stream",
          "name": "stdout",
          "text": [
            "Testverlust: 0.5183, Testgenauigkeit: 0.1371, Test F1-Score: 0.1009\n"
          ]
        },
        {
          "output_type": "stream",
          "name": "stderr",
          "text": [
            "Epoche 031 (Training): 100%|██████████| 120/120 [00:25<00:00,  4.62it/s, loss=0.5248]\n",
            "Evaluierung: 100%|██████████| 17/17 [00:01<00:00, 16.73it/s]\n"
          ]
        },
        {
          "output_type": "stream",
          "name": "stdout",
          "text": [
            "Testverlust: 0.5727, Testgenauigkeit: 0.1360, Test F1-Score: 0.1009\n"
          ]
        },
        {
          "output_type": "stream",
          "name": "stderr",
          "text": [
            "Epoche 032 (Training): 100%|██████████| 120/120 [00:25<00:00,  4.62it/s, loss=0.4528]\n",
            "Evaluierung: 100%|██████████| 17/17 [00:01<00:00, 16.71it/s]\n"
          ]
        },
        {
          "output_type": "stream",
          "name": "stdout",
          "text": [
            "Testverlust: 0.4340, Testgenauigkeit: 0.1828, Test F1-Score: 0.1080\n"
          ]
        },
        {
          "output_type": "stream",
          "name": "stderr",
          "text": [
            "Epoche 033 (Training): 100%|██████████| 120/120 [00:25<00:00,  4.62it/s, loss=0.3871]\n",
            "Evaluierung: 100%|██████████| 17/17 [00:01<00:00, 16.00it/s]\n"
          ]
        },
        {
          "output_type": "stream",
          "name": "stdout",
          "text": [
            "Testverlust: 0.4148, Testgenauigkeit: 0.2107, Test F1-Score: 0.1107\n"
          ]
        },
        {
          "output_type": "stream",
          "name": "stderr",
          "text": [
            "Epoche 034 (Training): 100%|██████████| 120/120 [00:25<00:00,  4.62it/s, loss=0.4690]\n",
            "Evaluierung: 100%|██████████| 17/17 [00:01<00:00, 16.71it/s]\n"
          ]
        },
        {
          "output_type": "stream",
          "name": "stdout",
          "text": [
            "Testverlust: 0.4116, Testgenauigkeit: 0.2110, Test F1-Score: 0.1126\n"
          ]
        },
        {
          "output_type": "stream",
          "name": "stderr",
          "text": [
            "Epoche 035 (Training): 100%|██████████| 120/120 [00:25<00:00,  4.62it/s, loss=0.4795]\n",
            "Evaluierung: 100%|██████████| 17/17 [00:01<00:00, 16.37it/s]\n"
          ]
        },
        {
          "output_type": "stream",
          "name": "stdout",
          "text": [
            "Testverlust: 0.4089, Testgenauigkeit: 0.2110, Test F1-Score: 0.1141\n"
          ]
        },
        {
          "output_type": "stream",
          "name": "stderr",
          "text": [
            "Epoche 036 (Training): 100%|██████████| 120/120 [00:25<00:00,  4.63it/s, loss=0.4219]\n",
            "Evaluierung: 100%|██████████| 17/17 [00:01<00:00, 16.65it/s]\n"
          ]
        },
        {
          "output_type": "stream",
          "name": "stdout",
          "text": [
            "Testverlust: 0.4079, Testgenauigkeit: 0.2128, Test F1-Score: 0.1197\n"
          ]
        },
        {
          "output_type": "stream",
          "name": "stderr",
          "text": [
            "Epoche 037 (Training): 100%|██████████| 120/120 [00:25<00:00,  4.63it/s, loss=0.3463]\n",
            "Evaluierung: 100%|██████████| 17/17 [00:01<00:00, 15.99it/s]\n"
          ]
        },
        {
          "output_type": "stream",
          "name": "stdout",
          "text": [
            "Testverlust: 0.4066, Testgenauigkeit: 0.2120, Test F1-Score: 0.1154\n"
          ]
        },
        {
          "output_type": "stream",
          "name": "stderr",
          "text": [
            "Epoche 038 (Training): 100%|██████████| 120/120 [00:25<00:00,  4.62it/s, loss=0.4075]\n",
            "Evaluierung: 100%|██████████| 17/17 [00:01<00:00, 16.82it/s]\n"
          ]
        },
        {
          "output_type": "stream",
          "name": "stdout",
          "text": [
            "Testverlust: 0.4060, Testgenauigkeit: 0.2117, Test F1-Score: 0.1175\n"
          ]
        },
        {
          "output_type": "stream",
          "name": "stderr",
          "text": [
            "Epoche 039 (Training): 100%|██████████| 120/120 [00:25<00:00,  4.62it/s, loss=0.4257]\n",
            "Evaluierung: 100%|██████████| 17/17 [00:01<00:00, 16.46it/s]\n"
          ]
        },
        {
          "output_type": "stream",
          "name": "stdout",
          "text": [
            "Testverlust: 0.4043, Testgenauigkeit: 0.2154, Test F1-Score: 0.1173\n"
          ]
        },
        {
          "output_type": "stream",
          "name": "stderr",
          "text": [
            "Epoche 040 (Training): 100%|██████████| 120/120 [00:25<00:00,  4.62it/s, loss=0.3633]\n",
            "Evaluierung: 100%|██████████| 17/17 [00:01<00:00, 16.52it/s]\n"
          ]
        },
        {
          "output_type": "stream",
          "name": "stdout",
          "text": [
            "Testverlust: 0.4035, Testgenauigkeit: 0.2160, Test F1-Score: 0.1240\n"
          ]
        },
        {
          "output_type": "stream",
          "name": "stderr",
          "text": [
            "Epoche 041 (Training): 100%|██████████| 120/120 [00:25<00:00,  4.62it/s, loss=0.3081]\n",
            "Evaluierung: 100%|██████████| 17/17 [00:01<00:00, 15.88it/s]\n"
          ]
        },
        {
          "output_type": "stream",
          "name": "stdout",
          "text": [
            "Testverlust: 0.4029, Testgenauigkeit: 0.2147, Test F1-Score: 0.1150\n"
          ]
        },
        {
          "output_type": "stream",
          "name": "stderr",
          "text": [
            "Epoche 042 (Training): 100%|██████████| 120/120 [00:25<00:00,  4.63it/s, loss=0.4448]\n",
            "Evaluierung: 100%|██████████| 17/17 [00:01<00:00, 16.83it/s]\n"
          ]
        },
        {
          "output_type": "stream",
          "name": "stdout",
          "text": [
            "Testverlust: 0.4017, Testgenauigkeit: 0.2167, Test F1-Score: 0.1242\n"
          ]
        },
        {
          "output_type": "stream",
          "name": "stderr",
          "text": [
            "Epoche 043 (Training): 100%|██████████| 120/120 [00:25<00:00,  4.63it/s, loss=0.3659]\n",
            "Evaluierung: 100%|██████████| 17/17 [00:01<00:00, 16.45it/s]\n"
          ]
        },
        {
          "output_type": "stream",
          "name": "stdout",
          "text": [
            "Testverlust: 0.4009, Testgenauigkeit: 0.2173, Test F1-Score: 0.1207\n"
          ]
        },
        {
          "output_type": "stream",
          "name": "stderr",
          "text": [
            "Epoche 044 (Training): 100%|██████████| 120/120 [00:26<00:00,  4.61it/s, loss=0.3126]\n",
            "Evaluierung: 100%|██████████| 17/17 [00:01<00:00, 16.64it/s]\n"
          ]
        },
        {
          "output_type": "stream",
          "name": "stdout",
          "text": [
            "Testverlust: 0.4005, Testgenauigkeit: 0.2170, Test F1-Score: 0.1180\n"
          ]
        },
        {
          "output_type": "stream",
          "name": "stderr",
          "text": [
            "Epoche 045 (Training): 100%|██████████| 120/120 [00:25<00:00,  4.63it/s, loss=0.4753]\n",
            "Evaluierung: 100%|██████████| 17/17 [00:01<00:00, 15.78it/s]\n"
          ]
        },
        {
          "output_type": "stream",
          "name": "stdout",
          "text": [
            "Testverlust: 0.4001, Testgenauigkeit: 0.2182, Test F1-Score: 0.1208\n"
          ]
        },
        {
          "output_type": "stream",
          "name": "stderr",
          "text": [
            "Epoche 046 (Training): 100%|██████████| 120/120 [00:25<00:00,  4.63it/s, loss=0.4452]\n",
            "Evaluierung: 100%|██████████| 17/17 [00:01<00:00, 16.81it/s]\n"
          ]
        },
        {
          "output_type": "stream",
          "name": "stdout",
          "text": [
            "Testverlust: 0.4006, Testgenauigkeit: 0.2182, Test F1-Score: 0.1213\n"
          ]
        },
        {
          "output_type": "stream",
          "name": "stderr",
          "text": [
            "Epoche 047 (Training): 100%|██████████| 120/120 [00:25<00:00,  4.62it/s, loss=0.3805]\n",
            "Evaluierung: 100%|██████████| 17/17 [00:01<00:00, 16.46it/s]\n"
          ]
        },
        {
          "output_type": "stream",
          "name": "stdout",
          "text": [
            "Testverlust: 0.3995, Testgenauigkeit: 0.2173, Test F1-Score: 0.1219\n"
          ]
        },
        {
          "output_type": "stream",
          "name": "stderr",
          "text": [
            "Epoche 048 (Training): 100%|██████████| 120/120 [00:25<00:00,  4.62it/s, loss=0.3663]\n",
            "Evaluierung: 100%|██████████| 17/17 [00:01<00:00, 16.62it/s]\n"
          ]
        },
        {
          "output_type": "stream",
          "name": "stdout",
          "text": [
            "Testverlust: 0.4001, Testgenauigkeit: 0.2190, Test F1-Score: 0.1187\n"
          ]
        },
        {
          "output_type": "stream",
          "name": "stderr",
          "text": [
            "Epoche 049 (Training): 100%|██████████| 120/120 [00:26<00:00,  4.61it/s, loss=0.3670]\n",
            "Evaluierung: 100%|██████████| 17/17 [00:01<00:00, 15.89it/s]\n"
          ]
        },
        {
          "output_type": "stream",
          "name": "stdout",
          "text": [
            "Testverlust: 0.4007, Testgenauigkeit: 0.2173, Test F1-Score: 0.1161\n"
          ]
        },
        {
          "output_type": "stream",
          "name": "stderr",
          "text": [
            "Epoche 050 (Training): 100%|██████████| 120/120 [00:25<00:00,  4.62it/s, loss=0.4209]\n",
            "Evaluierung: 100%|██████████| 17/17 [00:01<00:00, 16.76it/s]\n"
          ]
        },
        {
          "output_type": "stream",
          "name": "stdout",
          "text": [
            "Testverlust: 0.4797, Testgenauigkeit: 0.1664, Test F1-Score: 0.1139\n"
          ]
        },
        {
          "output_type": "stream",
          "name": "stderr",
          "text": [
            "Epoche 051 (Training): 100%|██████████| 120/120 [00:25<00:00,  4.62it/s, loss=0.6949]\n",
            "Evaluierung: 100%|██████████| 17/17 [00:01<00:00, 16.81it/s]\n"
          ]
        },
        {
          "output_type": "stream",
          "name": "stdout",
          "text": [
            "Testverlust: 0.5790, Testgenauigkeit: 0.1360, Test F1-Score: 0.1009\n"
          ]
        },
        {
          "output_type": "stream",
          "name": "stderr",
          "text": [
            "Epoche 052 (Training): 100%|██████████| 120/120 [00:25<00:00,  4.62it/s, loss=0.4155]\n",
            "Evaluierung: 100%|██████████| 17/17 [00:01<00:00, 16.75it/s]\n"
          ]
        },
        {
          "output_type": "stream",
          "name": "stdout",
          "text": [
            "Testverlust: 0.4155, Testgenauigkeit: 0.2103, Test F1-Score: 0.1099\n"
          ]
        },
        {
          "output_type": "stream",
          "name": "stderr",
          "text": [
            "Epoche 053 (Training): 100%|██████████| 120/120 [00:25<00:00,  4.62it/s, loss=0.3502]\n",
            "Evaluierung: 100%|██████████| 17/17 [00:01<00:00, 15.98it/s]\n"
          ]
        },
        {
          "output_type": "stream",
          "name": "stdout",
          "text": [
            "Testverlust: 0.4013, Testgenauigkeit: 0.2166, Test F1-Score: 0.1154\n"
          ]
        },
        {
          "output_type": "stream",
          "name": "stderr",
          "text": [
            "Epoche 054 (Training): 100%|██████████| 120/120 [00:25<00:00,  4.62it/s, loss=0.4340]\n"
          ]
        },
        {
          "output_type": "stream",
          "name": "stdout",
          "text": [
            "Training wird vorzeitig abgebrochen.\n"
          ]
        },
        {
          "output_type": "stream",
          "name": "stderr",
          "text": [
            "Evaluierung: 100%|██████████| 17/17 [00:01<00:00, 16.71it/s]\n",
            "[I 2025-01-21 02:17:25,710] Trial 2 finished with value: 0.3950934074819088 and parameters: {'embedding_dim': 1024, 'memory_size': 768, 'learning_rate': 0.000311221262455362, 'batch_size': 64, 'accumulation_steps': 2, 'epochs': 200, 'write_strength': 0.04788785504785732}. Best is trial 2 with value: 0.3950934074819088.\n"
          ]
        },
        {
          "output_type": "stream",
          "name": "stdout",
          "text": [
            "Testverlust: 0.4000, Testgenauigkeit: 0.2175, Test F1-Score: 0.1199\n"
          ]
        },
        {
          "output_type": "stream",
          "name": "stderr",
          "text": [
            "Epoche 001 (Training): 100%|██████████| 240/240 [00:36<00:00,  6.66it/s, loss=0.6012]\n",
            "Evaluierung: 100%|██████████| 33/33 [00:01<00:00, 19.88it/s]\n"
          ]
        },
        {
          "output_type": "stream",
          "name": "stdout",
          "text": [
            "Testverlust: 0.7483, Testgenauigkeit: 0.0000, Test F1-Score: 0.0000\n"
          ]
        },
        {
          "output_type": "stream",
          "name": "stderr",
          "text": [
            "Epoche 002 (Training): 100%|██████████| 240/240 [00:36<00:00,  6.66it/s, loss=0.5224]\n",
            "Evaluierung: 100%|██████████| 33/33 [00:01<00:00, 19.79it/s]\n"
          ]
        },
        {
          "output_type": "stream",
          "name": "stdout",
          "text": [
            "Testverlust: 0.6795, Testgenauigkeit: 0.0000, Test F1-Score: 0.0000\n"
          ]
        },
        {
          "output_type": "stream",
          "name": "stderr",
          "text": [
            "Epoche 003 (Training): 100%|██████████| 240/240 [00:36<00:00,  6.66it/s, loss=0.4670]\n",
            "Evaluierung: 100%|██████████| 33/33 [00:01<00:00, 19.81it/s]\n"
          ]
        },
        {
          "output_type": "stream",
          "name": "stdout",
          "text": [
            "Testverlust: 0.5665, Testgenauigkeit: 0.0000, Test F1-Score: 0.0000\n"
          ]
        },
        {
          "output_type": "stream",
          "name": "stderr",
          "text": [
            "Epoche 004 (Training): 100%|██████████| 240/240 [00:36<00:00,  6.66it/s, loss=0.4626]\n",
            "Evaluierung: 100%|██████████| 33/33 [00:01<00:00, 19.55it/s]\n"
          ]
        },
        {
          "output_type": "stream",
          "name": "stdout",
          "text": [
            "Testverlust: 0.5114, Testgenauigkeit: 0.0391, Test F1-Score: 0.0130\n"
          ]
        },
        {
          "output_type": "stream",
          "name": "stderr",
          "text": [
            "Epoche 005 (Training): 100%|██████████| 240/240 [00:36<00:00,  6.66it/s, loss=0.3746]\n",
            "Evaluierung: 100%|██████████| 33/33 [00:01<00:00, 19.93it/s]\n"
          ]
        },
        {
          "output_type": "stream",
          "name": "stdout",
          "text": [
            "Testverlust: 0.4909, Testgenauigkeit: 0.1453, Test F1-Score: 0.0684\n"
          ]
        },
        {
          "output_type": "stream",
          "name": "stderr",
          "text": [
            "Epoche 006 (Training): 100%|██████████| 240/240 [00:36<00:00,  6.66it/s, loss=0.4330]\n",
            "Evaluierung: 100%|██████████| 33/33 [00:01<00:00, 19.82it/s]\n"
          ]
        },
        {
          "output_type": "stream",
          "name": "stdout",
          "text": [
            "Testverlust: 0.4818, Testgenauigkeit: 0.1478, Test F1-Score: 0.0673\n"
          ]
        },
        {
          "output_type": "stream",
          "name": "stderr",
          "text": [
            "Epoche 007 (Training): 100%|██████████| 240/240 [00:36<00:00,  6.66it/s, loss=0.5415]\n",
            "Evaluierung: 100%|██████████| 33/33 [00:01<00:00, 20.00it/s]\n"
          ]
        },
        {
          "output_type": "stream",
          "name": "stdout",
          "text": [
            "Testverlust: 0.4782, Testgenauigkeit: 0.1876, Test F1-Score: 0.0942\n"
          ]
        },
        {
          "output_type": "stream",
          "name": "stderr",
          "text": [
            "Epoche 008 (Training): 100%|██████████| 240/240 [00:36<00:00,  6.66it/s, loss=0.7166]\n",
            "Evaluierung: 100%|██████████| 33/33 [00:01<00:00, 20.00it/s]\n"
          ]
        },
        {
          "output_type": "stream",
          "name": "stdout",
          "text": [
            "Testverlust: 0.4776, Testgenauigkeit: 0.1876, Test F1-Score: 0.0942\n"
          ]
        },
        {
          "output_type": "stream",
          "name": "stderr",
          "text": [
            "Epoche 009 (Training): 100%|██████████| 240/240 [00:36<00:00,  6.66it/s, loss=0.4047]\n",
            "Evaluierung: 100%|██████████| 33/33 [00:01<00:00, 19.73it/s]\n"
          ]
        },
        {
          "output_type": "stream",
          "name": "stdout",
          "text": [
            "Testverlust: 0.4802, Testgenauigkeit: 0.1846, Test F1-Score: 0.0939\n"
          ]
        },
        {
          "output_type": "stream",
          "name": "stderr",
          "text": [
            "Epoche 010 (Training): 100%|██████████| 240/240 [00:36<00:00,  6.66it/s, loss=0.4919]\n",
            "Evaluierung: 100%|██████████| 33/33 [00:01<00:00, 19.31it/s]\n"
          ]
        },
        {
          "output_type": "stream",
          "name": "stdout",
          "text": [
            "Testverlust: 0.5052, Testgenauigkeit: 0.1102, Test F1-Score: 0.0567\n"
          ]
        },
        {
          "output_type": "stream",
          "name": "stderr",
          "text": [
            "Epoche 011 (Training): 100%|██████████| 240/240 [00:36<00:00,  6.66it/s, loss=0.8461]\n",
            "Evaluierung: 100%|██████████| 33/33 [00:01<00:00, 19.65it/s]\n"
          ]
        },
        {
          "output_type": "stream",
          "name": "stdout",
          "text": [
            "Testverlust: 0.6889, Testgenauigkeit: 0.0600, Test F1-Score: 0.0329\n"
          ]
        },
        {
          "output_type": "stream",
          "name": "stderr",
          "text": [
            "Epoche 012 (Training): 100%|██████████| 240/240 [00:36<00:00,  6.66it/s, loss=0.5509]\n",
            "Evaluierung: 100%|██████████| 33/33 [00:01<00:00, 19.80it/s]\n"
          ]
        },
        {
          "output_type": "stream",
          "name": "stdout",
          "text": [
            "Testverlust: 0.6603, Testgenauigkeit: 0.0577, Test F1-Score: 0.0313\n"
          ]
        },
        {
          "output_type": "stream",
          "name": "stderr",
          "text": [
            "Epoche 013 (Training): 100%|██████████| 240/240 [00:36<00:00,  6.66it/s, loss=0.7403]\n",
            "Evaluierung: 100%|██████████| 33/33 [00:01<00:00, 19.84it/s]\n"
          ]
        },
        {
          "output_type": "stream",
          "name": "stdout",
          "text": [
            "Testverlust: 0.6046, Testgenauigkeit: 0.0577, Test F1-Score: 0.0313\n"
          ]
        },
        {
          "output_type": "stream",
          "name": "stderr",
          "text": [
            "Epoche 014 (Training): 100%|██████████| 240/240 [00:36<00:00,  6.66it/s, loss=0.6291]\n",
            "Evaluierung: 100%|██████████| 33/33 [00:01<00:00, 19.89it/s]\n"
          ]
        },
        {
          "output_type": "stream",
          "name": "stdout",
          "text": [
            "Testverlust: 0.5004, Testgenauigkeit: 0.1302, Test F1-Score: 0.0500\n"
          ]
        },
        {
          "output_type": "stream",
          "name": "stderr",
          "text": [
            "Epoche 015 (Training): 100%|██████████| 240/240 [00:36<00:00,  6.66it/s, loss=0.5722]\n",
            "Evaluierung: 100%|██████████| 33/33 [00:01<00:00, 19.78it/s]\n"
          ]
        },
        {
          "output_type": "stream",
          "name": "stdout",
          "text": [
            "Testverlust: 0.4760, Testgenauigkeit: 0.1876, Test F1-Score: 0.0942\n"
          ]
        },
        {
          "output_type": "stream",
          "name": "stderr",
          "text": [
            "Epoche 016 (Training): 100%|██████████| 240/240 [00:36<00:00,  6.66it/s, loss=0.3438]\n",
            "Evaluierung: 100%|██████████| 33/33 [00:01<00:00, 19.56it/s]\n"
          ]
        },
        {
          "output_type": "stream",
          "name": "stdout",
          "text": [
            "Testverlust: 0.4717, Testgenauigkeit: 0.1876, Test F1-Score: 0.0942\n"
          ]
        },
        {
          "output_type": "stream",
          "name": "stderr",
          "text": [
            "Epoche 017 (Training): 100%|██████████| 240/240 [00:36<00:00,  6.66it/s, loss=0.5382]\n",
            "Evaluierung: 100%|██████████| 33/33 [00:01<00:00, 19.55it/s]\n"
          ]
        },
        {
          "output_type": "stream",
          "name": "stdout",
          "text": [
            "Testverlust: 0.4687, Testgenauigkeit: 0.1876, Test F1-Score: 0.0942\n"
          ]
        },
        {
          "output_type": "stream",
          "name": "stderr",
          "text": [
            "Epoche 018 (Training): 100%|██████████| 240/240 [00:36<00:00,  6.66it/s, loss=0.4086]\n",
            "Evaluierung: 100%|██████████| 33/33 [00:01<00:00, 19.74it/s]\n"
          ]
        },
        {
          "output_type": "stream",
          "name": "stdout",
          "text": [
            "Testverlust: 0.4668, Testgenauigkeit: 0.1876, Test F1-Score: 0.0942\n"
          ]
        },
        {
          "output_type": "stream",
          "name": "stderr",
          "text": [
            "Epoche 019 (Training): 100%|██████████| 240/240 [00:36<00:00,  6.66it/s, loss=0.3050]\n",
            "Evaluierung: 100%|██████████| 33/33 [00:01<00:00, 20.00it/s]\n"
          ]
        },
        {
          "output_type": "stream",
          "name": "stdout",
          "text": [
            "Testverlust: 0.4658, Testgenauigkeit: 0.1876, Test F1-Score: 0.0942\n"
          ]
        },
        {
          "output_type": "stream",
          "name": "stderr",
          "text": [
            "Epoche 020 (Training): 100%|██████████| 240/240 [00:36<00:00,  6.66it/s, loss=0.4077]\n",
            "Evaluierung: 100%|██████████| 33/33 [00:01<00:00, 19.79it/s]\n"
          ]
        },
        {
          "output_type": "stream",
          "name": "stdout",
          "text": [
            "Testverlust: 0.4650, Testgenauigkeit: 0.1876, Test F1-Score: 0.0942\n"
          ]
        },
        {
          "output_type": "stream",
          "name": "stderr",
          "text": [
            "Epoche 021 (Training): 100%|██████████| 240/240 [00:36<00:00,  6.66it/s, loss=0.5278]\n",
            "Evaluierung: 100%|██████████| 33/33 [00:01<00:00, 20.06it/s]\n"
          ]
        },
        {
          "output_type": "stream",
          "name": "stdout",
          "text": [
            "Testverlust: 0.4630, Testgenauigkeit: 0.2129, Test F1-Score: 0.1105\n"
          ]
        },
        {
          "output_type": "stream",
          "name": "stderr",
          "text": [
            "Epoche 022 (Training): 100%|██████████| 240/240 [00:36<00:00,  6.66it/s, loss=0.5030]\n",
            "Evaluierung: 100%|██████████| 33/33 [00:01<00:00, 19.52it/s]\n"
          ]
        },
        {
          "output_type": "stream",
          "name": "stdout",
          "text": [
            "Testverlust: 0.4621, Testgenauigkeit: 0.2129, Test F1-Score: 0.1105\n"
          ]
        },
        {
          "output_type": "stream",
          "name": "stderr",
          "text": [
            "Epoche 023 (Training): 100%|██████████| 240/240 [00:36<00:00,  6.66it/s, loss=0.4624]\n",
            "Evaluierung: 100%|██████████| 33/33 [00:01<00:00, 19.94it/s]\n"
          ]
        },
        {
          "output_type": "stream",
          "name": "stdout",
          "text": [
            "Testverlust: 0.4612, Testgenauigkeit: 0.2129, Test F1-Score: 0.1105\n"
          ]
        },
        {
          "output_type": "stream",
          "name": "stderr",
          "text": [
            "Epoche 024 (Training): 100%|██████████| 240/240 [00:36<00:00,  6.66it/s, loss=0.4439]\n",
            "Evaluierung: 100%|██████████| 33/33 [00:01<00:00, 19.84it/s]\n"
          ]
        },
        {
          "output_type": "stream",
          "name": "stdout",
          "text": [
            "Testverlust: 0.4608, Testgenauigkeit: 0.2129, Test F1-Score: 0.1105\n"
          ]
        },
        {
          "output_type": "stream",
          "name": "stderr",
          "text": [
            "Epoche 025 (Training): 100%|██████████| 240/240 [00:36<00:00,  6.66it/s, loss=0.5898]\n",
            "Evaluierung: 100%|██████████| 33/33 [00:01<00:00, 20.01it/s]\n"
          ]
        },
        {
          "output_type": "stream",
          "name": "stdout",
          "text": [
            "Testverlust: 0.4600, Testgenauigkeit: 0.2129, Test F1-Score: 0.1105\n"
          ]
        },
        {
          "output_type": "stream",
          "name": "stderr",
          "text": [
            "Epoche 026 (Training): 100%|██████████| 240/240 [00:36<00:00,  6.66it/s, loss=0.3868]\n",
            "Evaluierung: 100%|██████████| 33/33 [00:01<00:00, 19.84it/s]\n"
          ]
        },
        {
          "output_type": "stream",
          "name": "stdout",
          "text": [
            "Testverlust: 0.4598, Testgenauigkeit: 0.2129, Test F1-Score: 0.1105\n"
          ]
        },
        {
          "output_type": "stream",
          "name": "stderr",
          "text": [
            "Epoche 027 (Training): 100%|██████████| 240/240 [00:36<00:00,  6.66it/s, loss=0.4460]\n",
            "Evaluierung: 100%|██████████| 33/33 [00:01<00:00, 19.89it/s]\n"
          ]
        },
        {
          "output_type": "stream",
          "name": "stdout",
          "text": [
            "Testverlust: 0.4596, Testgenauigkeit: 0.2129, Test F1-Score: 0.1105\n"
          ]
        },
        {
          "output_type": "stream",
          "name": "stderr",
          "text": [
            "Epoche 028 (Training): 100%|██████████| 240/240 [00:36<00:00,  6.66it/s, loss=0.5756]\n",
            "Evaluierung: 100%|██████████| 33/33 [00:01<00:00, 19.36it/s]\n"
          ]
        },
        {
          "output_type": "stream",
          "name": "stdout",
          "text": [
            "Testverlust: 0.4597, Testgenauigkeit: 0.2129, Test F1-Score: 0.1105\n"
          ]
        },
        {
          "output_type": "stream",
          "name": "stderr",
          "text": [
            "Epoche 029 (Training): 100%|██████████| 240/240 [00:36<00:00,  6.66it/s, loss=0.3374]\n",
            "Evaluierung: 100%|██████████| 33/33 [00:01<00:00, 19.66it/s]\n"
          ]
        },
        {
          "output_type": "stream",
          "name": "stdout",
          "text": [
            "Testverlust: 0.4602, Testgenauigkeit: 0.2129, Test F1-Score: 0.1105\n"
          ]
        },
        {
          "output_type": "stream",
          "name": "stderr",
          "text": [
            "Epoche 030 (Training): 100%|██████████| 240/240 [00:36<00:00,  6.66it/s, loss=0.4796]\n",
            "Evaluierung: 100%|██████████| 33/33 [00:01<00:00, 19.77it/s]\n"
          ]
        },
        {
          "output_type": "stream",
          "name": "stdout",
          "text": [
            "Testverlust: 0.4758, Testgenauigkeit: 0.2129, Test F1-Score: 0.1105\n"
          ]
        },
        {
          "output_type": "stream",
          "name": "stderr",
          "text": [
            "Epoche 031 (Training): 100%|██████████| 240/240 [00:36<00:00,  6.66it/s, loss=1.3780]\n",
            "Evaluierung: 100%|██████████| 33/33 [00:01<00:00, 19.90it/s]\n"
          ]
        },
        {
          "output_type": "stream",
          "name": "stdout",
          "text": [
            "Testverlust: 1.2281, Testgenauigkeit: 0.1593, Test F1-Score: 0.0878\n"
          ]
        },
        {
          "output_type": "stream",
          "name": "stderr",
          "text": [
            "Epoche 032 (Training): 100%|██████████| 240/240 [00:36<00:00,  6.66it/s, loss=0.5983]\n",
            "Evaluierung: 100%|██████████| 33/33 [00:01<00:00, 19.82it/s]\n"
          ]
        },
        {
          "output_type": "stream",
          "name": "stdout",
          "text": [
            "Testverlust: 0.6216, Testgenauigkeit: 0.0970, Test F1-Score: 0.0642\n"
          ]
        },
        {
          "output_type": "stream",
          "name": "stderr",
          "text": [
            "Epoche 033 (Training): 100%|██████████| 240/240 [00:36<00:00,  6.66it/s, loss=0.7706]\n",
            "Evaluierung: 100%|██████████| 33/33 [00:01<00:00, 19.89it/s]\n"
          ]
        },
        {
          "output_type": "stream",
          "name": "stdout",
          "text": [
            "Testverlust: 0.5720, Testgenauigkeit: 0.0970, Test F1-Score: 0.0642\n"
          ]
        },
        {
          "output_type": "stream",
          "name": "stderr",
          "text": [
            "Epoche 034 (Training): 100%|██████████| 240/240 [00:36<00:00,  6.66it/s, loss=0.3542]\n"
          ]
        },
        {
          "output_type": "stream",
          "name": "stdout",
          "text": [
            "Training wird vorzeitig abgebrochen.\n"
          ]
        },
        {
          "output_type": "stream",
          "name": "stderr",
          "text": [
            "Evaluierung: 100%|██████████| 33/33 [00:01<00:00, 19.83it/s]\n",
            "[I 2025-01-21 02:40:18,320] Trial 3 finished with value: 0.45439117153485614 and parameters: {'embedding_dim': 1152, 'memory_size': 3584, 'learning_rate': 0.0005840432773382484, 'batch_size': 32, 'accumulation_steps': 7, 'epochs': 200, 'write_strength': 0.019180116933648066}. Best is trial 2 with value: 0.3950934074819088.\n"
          ]
        },
        {
          "output_type": "stream",
          "name": "stdout",
          "text": [
            "Testverlust: 0.4901, Testgenauigkeit: 0.1752, Test F1-Score: 0.1181\n",
            "Beste Hyperparameter:  {'embedding_dim': 1024, 'memory_size': 768, 'learning_rate': 0.000311221262455362, 'batch_size': 64, 'accumulation_steps': 2, 'epochs': 200, 'write_strength': 0.04788785504785732}\n",
            "Konfiguration aus Dictionary geladen: {'embedding_dim': 1024, 'memory_size': 768, 'learning_rate': 0.000311221262455362, 'batch_size': 64, 'accumulation_steps': 2, 'epochs': 200, 'write_strength': 0.04788785504785732}\n"
          ]
        },
        {
          "output_type": "stream",
          "name": "stderr",
          "text": [
            "Epoche 001 (Training): 100%|██████████| 120/120 [00:25<00:00,  4.62it/s, loss=0.7566]\n",
            "Evaluierung: 100%|██████████| 17/17 [00:01<00:00, 16.42it/s]\n"
          ]
        },
        {
          "output_type": "stream",
          "name": "stdout",
          "text": [
            "Testverlust: 0.7126, Testgenauigkeit: 0.0000, Test F1-Score: 0.0000\n"
          ]
        },
        {
          "output_type": "stream",
          "name": "stderr",
          "text": [
            "Epoche 002 (Training): 100%|██████████| 120/120 [00:26<00:00,  4.60it/s, loss=0.6595]\n",
            "Evaluierung: 100%|██████████| 17/17 [00:01<00:00, 16.52it/s]\n"
          ]
        },
        {
          "output_type": "stream",
          "name": "stdout",
          "text": [
            "Testverlust: 0.6121, Testgenauigkeit: 0.0000, Test F1-Score: 0.0000\n"
          ]
        },
        {
          "output_type": "stream",
          "name": "stderr",
          "text": [
            "Epoche 003 (Training): 100%|██████████| 120/120 [00:26<00:00,  4.60it/s, loss=0.5448]\n",
            "Evaluierung: 100%|██████████| 17/17 [00:01<00:00, 16.61it/s]\n"
          ]
        },
        {
          "output_type": "stream",
          "name": "stdout",
          "text": [
            "Testverlust: 0.5417, Testgenauigkeit: 0.0000, Test F1-Score: 0.0000\n"
          ]
        },
        {
          "output_type": "stream",
          "name": "stderr",
          "text": [
            "Epoche 004 (Training): 100%|██████████| 120/120 [00:26<00:00,  4.60it/s, loss=0.5239]\n",
            "Evaluierung: 100%|██████████| 17/17 [00:01<00:00, 15.99it/s]\n"
          ]
        },
        {
          "output_type": "stream",
          "name": "stdout",
          "text": [
            "Testverlust: 0.4704, Testgenauigkeit: 0.0951, Test F1-Score: 0.0731\n"
          ]
        },
        {
          "output_type": "stream",
          "name": "stderr",
          "text": [
            "Epoche 005 (Training): 100%|██████████| 120/120 [00:26<00:00,  4.61it/s, loss=0.5915]\n",
            "Evaluierung: 100%|██████████| 17/17 [00:01<00:00, 16.75it/s]\n"
          ]
        },
        {
          "output_type": "stream",
          "name": "stdout",
          "text": [
            "Testverlust: 0.4541, Testgenauigkeit: 0.1131, Test F1-Score: 0.0846\n"
          ]
        },
        {
          "output_type": "stream",
          "name": "stderr",
          "text": [
            "Epoche 006 (Training): 100%|██████████| 120/120 [00:25<00:00,  4.62it/s, loss=0.5871]\n",
            "Evaluierung: 100%|██████████| 17/17 [00:01<00:00, 16.63it/s]\n"
          ]
        },
        {
          "output_type": "stream",
          "name": "stdout",
          "text": [
            "Testverlust: 0.4486, Testgenauigkeit: 0.1763, Test F1-Score: 0.0897\n"
          ]
        },
        {
          "output_type": "stream",
          "name": "stderr",
          "text": [
            "Epoche 007 (Training): 100%|██████████| 120/120 [00:26<00:00,  4.60it/s, loss=0.5755]\n",
            "Evaluierung: 100%|██████████| 17/17 [00:01<00:00, 16.53it/s]\n"
          ]
        },
        {
          "output_type": "stream",
          "name": "stdout",
          "text": [
            "Testverlust: 0.4470, Testgenauigkeit: 0.1759, Test F1-Score: 0.0897\n"
          ]
        },
        {
          "output_type": "stream",
          "name": "stderr",
          "text": [
            "Epoche 008 (Training): 100%|██████████| 120/120 [00:26<00:00,  4.61it/s, loss=0.5765]\n",
            "Evaluierung: 100%|██████████| 17/17 [00:01<00:00, 16.04it/s]\n"
          ]
        },
        {
          "output_type": "stream",
          "name": "stdout",
          "text": [
            "Testverlust: 0.4477, Testgenauigkeit: 0.1773, Test F1-Score: 0.0899\n"
          ]
        },
        {
          "output_type": "stream",
          "name": "stderr",
          "text": [
            "Epoche 009 (Training): 100%|██████████| 120/120 [00:25<00:00,  4.62it/s, loss=0.3653]\n",
            "Evaluierung: 100%|██████████| 17/17 [00:01<00:00, 16.64it/s]\n"
          ]
        },
        {
          "output_type": "stream",
          "name": "stdout",
          "text": [
            "Testverlust: 0.4522, Testgenauigkeit: 0.1275, Test F1-Score: 0.0831\n"
          ]
        },
        {
          "output_type": "stream",
          "name": "stderr",
          "text": [
            "Epoche 010 (Training): 100%|██████████| 120/120 [00:26<00:00,  4.61it/s, loss=0.5726]\n",
            "Evaluierung: 100%|██████████| 17/17 [00:01<00:00, 16.70it/s]\n"
          ]
        },
        {
          "output_type": "stream",
          "name": "stdout",
          "text": [
            "Testverlust: 0.5102, Testgenauigkeit: 0.0951, Test F1-Score: 0.0731\n"
          ]
        },
        {
          "output_type": "stream",
          "name": "stderr",
          "text": [
            "Epoche 011 (Training): 100%|██████████| 120/120 [00:26<00:00,  4.61it/s, loss=0.5684]\n",
            "Evaluierung: 100%|██████████| 17/17 [00:01<00:00, 16.77it/s]\n"
          ]
        },
        {
          "output_type": "stream",
          "name": "stdout",
          "text": [
            "Testverlust: 0.5370, Testgenauigkeit: 0.0951, Test F1-Score: 0.0731\n"
          ]
        },
        {
          "output_type": "stream",
          "name": "stderr",
          "text": [
            "Epoche 012 (Training): 100%|██████████| 120/120 [00:26<00:00,  4.61it/s, loss=0.5484]\n",
            "Evaluierung: 100%|██████████| 17/17 [00:01<00:00, 16.47it/s]\n"
          ]
        },
        {
          "output_type": "stream",
          "name": "stdout",
          "text": [
            "Testverlust: 0.4857, Testgenauigkeit: 0.1131, Test F1-Score: 0.0846\n"
          ]
        },
        {
          "output_type": "stream",
          "name": "stderr",
          "text": [
            "Epoche 013 (Training): 100%|██████████| 120/120 [00:26<00:00,  4.61it/s, loss=0.4324]\n",
            "Evaluierung: 100%|██████████| 17/17 [00:01<00:00, 16.54it/s]\n"
          ]
        },
        {
          "output_type": "stream",
          "name": "stdout",
          "text": [
            "Testverlust: 0.4491, Testgenauigkeit: 0.1639, Test F1-Score: 0.0903\n"
          ]
        },
        {
          "output_type": "stream",
          "name": "stderr",
          "text": [
            "Epoche 014 (Training): 100%|██████████| 120/120 [00:25<00:00,  4.62it/s, loss=0.4041]\n",
            "Evaluierung: 100%|██████████| 17/17 [00:01<00:00, 16.68it/s]\n"
          ]
        },
        {
          "output_type": "stream",
          "name": "stdout",
          "text": [
            "Testverlust: 0.4427, Testgenauigkeit: 0.2044, Test F1-Score: 0.1051\n"
          ]
        },
        {
          "output_type": "stream",
          "name": "stderr",
          "text": [
            "Epoche 015 (Training): 100%|██████████| 120/120 [00:26<00:00,  4.61it/s, loss=0.4527]\n",
            "Evaluierung: 100%|██████████| 17/17 [00:01<00:00, 16.71it/s]\n"
          ]
        },
        {
          "output_type": "stream",
          "name": "stdout",
          "text": [
            "Testverlust: 0.4403, Testgenauigkeit: 0.2065, Test F1-Score: 0.1050\n"
          ]
        },
        {
          "output_type": "stream",
          "name": "stderr",
          "text": [
            "Epoche 016 (Training): 100%|██████████| 120/120 [00:26<00:00,  4.61it/s, loss=0.3731]\n",
            "Evaluierung: 100%|██████████| 17/17 [00:01<00:00, 16.25it/s]\n"
          ]
        },
        {
          "output_type": "stream",
          "name": "stdout",
          "text": [
            "Testverlust: 0.4383, Testgenauigkeit: 0.2066, Test F1-Score: 0.1049\n"
          ]
        },
        {
          "output_type": "stream",
          "name": "stderr",
          "text": [
            "Epoche 017 (Training): 100%|██████████| 120/120 [00:26<00:00,  4.60it/s, loss=0.4818]\n",
            "Evaluierung: 100%|██████████| 17/17 [00:01<00:00, 16.63it/s]\n"
          ]
        },
        {
          "output_type": "stream",
          "name": "stdout",
          "text": [
            "Testverlust: 0.4364, Testgenauigkeit: 0.2079, Test F1-Score: 0.1051\n"
          ]
        },
        {
          "output_type": "stream",
          "name": "stderr",
          "text": [
            "Epoche 018 (Training): 100%|██████████| 120/120 [00:26<00:00,  4.61it/s, loss=0.4360]\n",
            "Evaluierung: 100%|██████████| 17/17 [00:01<00:00, 16.78it/s]\n"
          ]
        },
        {
          "output_type": "stream",
          "name": "stdout",
          "text": [
            "Testverlust: 0.4347, Testgenauigkeit: 0.2062, Test F1-Score: 0.1050\n"
          ]
        },
        {
          "output_type": "stream",
          "name": "stderr",
          "text": [
            "Epoche 019 (Training): 100%|██████████| 120/120 [00:25<00:00,  4.62it/s, loss=0.5613]\n",
            "Evaluierung: 100%|██████████| 17/17 [00:01<00:00, 16.80it/s]\n"
          ]
        },
        {
          "output_type": "stream",
          "name": "stdout",
          "text": [
            "Testverlust: 0.4329, Testgenauigkeit: 0.2087, Test F1-Score: 0.1052\n"
          ]
        },
        {
          "output_type": "stream",
          "name": "stderr",
          "text": [
            "Epoche 020 (Training): 100%|██████████| 120/120 [00:26<00:00,  4.60it/s, loss=0.5188]\n",
            "Evaluierung: 100%|██████████| 17/17 [00:01<00:00, 15.83it/s]\n"
          ]
        },
        {
          "output_type": "stream",
          "name": "stdout",
          "text": [
            "Testverlust: 0.4318, Testgenauigkeit: 0.2079, Test F1-Score: 0.1051\n"
          ]
        },
        {
          "output_type": "stream",
          "name": "stderr",
          "text": [
            "Epoche 021 (Training): 100%|██████████| 120/120 [00:26<00:00,  4.60it/s, loss=0.3994]\n",
            "Evaluierung: 100%|██████████| 17/17 [00:01<00:00, 16.58it/s]\n"
          ]
        },
        {
          "output_type": "stream",
          "name": "stdout",
          "text": [
            "Testverlust: 0.4304, Testgenauigkeit: 0.2087, Test F1-Score: 0.1052\n"
          ]
        },
        {
          "output_type": "stream",
          "name": "stderr",
          "text": [
            "Epoche 022 (Training): 100%|██████████| 120/120 [00:25<00:00,  4.62it/s, loss=0.4381]\n",
            "Evaluierung: 100%|██████████| 17/17 [00:01<00:00, 16.54it/s]\n"
          ]
        },
        {
          "output_type": "stream",
          "name": "stdout",
          "text": [
            "Testverlust: 0.4300, Testgenauigkeit: 0.2087, Test F1-Score: 0.1052\n"
          ]
        },
        {
          "output_type": "stream",
          "name": "stderr",
          "text": [
            "Epoche 023 (Training): 100%|██████████| 120/120 [00:25<00:00,  4.63it/s, loss=0.3346]\n",
            "Evaluierung: 100%|██████████| 17/17 [00:01<00:00, 16.91it/s]\n"
          ]
        },
        {
          "output_type": "stream",
          "name": "stdout",
          "text": [
            "Testverlust: 0.4289, Testgenauigkeit: 0.2087, Test F1-Score: 0.1052\n"
          ]
        },
        {
          "output_type": "stream",
          "name": "stderr",
          "text": [
            "Epoche 024 (Training): 100%|██████████| 120/120 [00:26<00:00,  4.62it/s, loss=0.4101]\n",
            "Evaluierung: 100%|██████████| 17/17 [00:01<00:00, 16.00it/s]\n"
          ]
        },
        {
          "output_type": "stream",
          "name": "stdout",
          "text": [
            "Testverlust: 0.4283, Testgenauigkeit: 0.2086, Test F1-Score: 0.1052\n"
          ]
        },
        {
          "output_type": "stream",
          "name": "stderr",
          "text": [
            "Epoche 025 (Training): 100%|██████████| 120/120 [00:26<00:00,  4.61it/s, loss=0.3734]\n",
            "Evaluierung: 100%|██████████| 17/17 [00:01<00:00, 16.62it/s]\n"
          ]
        },
        {
          "output_type": "stream",
          "name": "stdout",
          "text": [
            "Testverlust: 0.4301, Testgenauigkeit: 0.2087, Test F1-Score: 0.1052\n"
          ]
        },
        {
          "output_type": "stream",
          "name": "stderr",
          "text": [
            "Epoche 026 (Training): 100%|██████████| 120/120 [00:25<00:00,  4.62it/s, loss=0.4878]\n",
            "Evaluierung: 100%|██████████| 17/17 [00:01<00:00, 16.89it/s]\n"
          ]
        },
        {
          "output_type": "stream",
          "name": "stdout",
          "text": [
            "Testverlust: 0.4271, Testgenauigkeit: 0.2085, Test F1-Score: 0.1052\n"
          ]
        },
        {
          "output_type": "stream",
          "name": "stderr",
          "text": [
            "Epoche 027 (Training): 100%|██████████| 120/120 [00:25<00:00,  4.63it/s, loss=0.4580]\n",
            "Evaluierung: 100%|██████████| 17/17 [00:01<00:00, 16.75it/s]\n"
          ]
        },
        {
          "output_type": "stream",
          "name": "stdout",
          "text": [
            "Testverlust: 0.4266, Testgenauigkeit: 0.2085, Test F1-Score: 0.1052\n"
          ]
        },
        {
          "output_type": "stream",
          "name": "stderr",
          "text": [
            "Epoche 028 (Training): 100%|██████████| 120/120 [00:26<00:00,  4.61it/s, loss=0.4825]\n",
            "Evaluierung: 100%|██████████| 17/17 [00:01<00:00, 16.36it/s]\n"
          ]
        },
        {
          "output_type": "stream",
          "name": "stdout",
          "text": [
            "Testverlust: 0.4271, Testgenauigkeit: 0.2085, Test F1-Score: 0.1052\n"
          ]
        },
        {
          "output_type": "stream",
          "name": "stderr",
          "text": [
            "Epoche 029 (Training): 100%|██████████| 120/120 [00:26<00:00,  4.61it/s, loss=0.4639]\n",
            "Evaluierung: 100%|██████████| 17/17 [00:01<00:00, 16.53it/s]\n"
          ]
        },
        {
          "output_type": "stream",
          "name": "stdout",
          "text": [
            "Testverlust: 0.4291, Testgenauigkeit: 0.2075, Test F1-Score: 0.1050\n"
          ]
        },
        {
          "output_type": "stream",
          "name": "stderr",
          "text": [
            "Epoche 030 (Training): 100%|██████████| 120/120 [00:26<00:00,  4.61it/s, loss=0.5255]\n",
            "Evaluierung: 100%|██████████| 17/17 [00:01<00:00, 16.67it/s]\n"
          ]
        },
        {
          "output_type": "stream",
          "name": "stdout",
          "text": [
            "Testverlust: 0.4665, Testgenauigkeit: 0.1416, Test F1-Score: 0.1037\n"
          ]
        },
        {
          "output_type": "stream",
          "name": "stderr",
          "text": [
            "Epoche 031 (Training): 100%|██████████| 120/120 [00:26<00:00,  4.60it/s, loss=0.5793]\n",
            "Evaluierung: 100%|██████████| 17/17 [00:01<00:00, 16.82it/s]\n"
          ]
        },
        {
          "output_type": "stream",
          "name": "stdout",
          "text": [
            "Testverlust: 0.5232, Testgenauigkeit: 0.1372, Test F1-Score: 0.1025\n"
          ]
        },
        {
          "output_type": "stream",
          "name": "stderr",
          "text": [
            "Epoche 032 (Training): 100%|██████████| 120/120 [00:26<00:00,  4.60it/s, loss=0.5152]\n",
            "Evaluierung: 100%|██████████| 17/17 [00:01<00:00, 16.78it/s]\n"
          ]
        },
        {
          "output_type": "stream",
          "name": "stdout",
          "text": [
            "Testverlust: 0.4427, Testgenauigkeit: 0.1871, Test F1-Score: 0.1065\n"
          ]
        },
        {
          "output_type": "stream",
          "name": "stderr",
          "text": [
            "Epoche 033 (Training): 100%|██████████| 120/120 [00:26<00:00,  4.61it/s, loss=0.4987]\n",
            "Evaluierung: 100%|██████████| 17/17 [00:01<00:00, 15.80it/s]\n"
          ]
        },
        {
          "output_type": "stream",
          "name": "stdout",
          "text": [
            "Testverlust: 0.4271, Testgenauigkeit: 0.2085, Test F1-Score: 0.1052\n"
          ]
        },
        {
          "output_type": "stream",
          "name": "stderr",
          "text": [
            "Epoche 034 (Training): 100%|██████████| 120/120 [00:25<00:00,  4.62it/s, loss=0.4733]\n",
            "Evaluierung: 100%|██████████| 17/17 [00:01<00:00, 16.67it/s]\n"
          ]
        },
        {
          "output_type": "stream",
          "name": "stdout",
          "text": [
            "Testverlust: 0.4264, Testgenauigkeit: 0.2086, Test F1-Score: 0.1052\n"
          ]
        },
        {
          "output_type": "stream",
          "name": "stderr",
          "text": [
            "Epoche 035 (Training): 100%|██████████| 120/120 [00:25<00:00,  4.62it/s, loss=0.4766]\n",
            "Evaluierung: 100%|██████████| 17/17 [00:01<00:00, 16.66it/s]\n"
          ]
        },
        {
          "output_type": "stream",
          "name": "stdout",
          "text": [
            "Testverlust: 0.4257, Testgenauigkeit: 0.2085, Test F1-Score: 0.1052\n"
          ]
        },
        {
          "output_type": "stream",
          "name": "stderr",
          "text": [
            "Epoche 036 (Training): 100%|██████████| 120/120 [00:26<00:00,  4.61it/s, loss=0.4487]\n",
            "Evaluierung: 100%|██████████| 17/17 [00:01<00:00, 16.71it/s]\n"
          ]
        },
        {
          "output_type": "stream",
          "name": "stdout",
          "text": [
            "Testverlust: 0.4252, Testgenauigkeit: 0.2077, Test F1-Score: 0.1051\n"
          ]
        },
        {
          "output_type": "stream",
          "name": "stderr",
          "text": [
            "Epoche 037 (Training): 100%|██████████| 120/120 [00:25<00:00,  4.62it/s, loss=0.3516]\n",
            "Evaluierung: 100%|██████████| 17/17 [00:01<00:00, 16.12it/s]\n"
          ]
        },
        {
          "output_type": "stream",
          "name": "stdout",
          "text": [
            "Testverlust: 0.4244, Testgenauigkeit: 0.2085, Test F1-Score: 0.1052\n"
          ]
        },
        {
          "output_type": "stream",
          "name": "stderr",
          "text": [
            "Epoche 038 (Training): 100%|██████████| 120/120 [00:25<00:00,  4.62it/s, loss=0.3770]\n",
            "Evaluierung: 100%|██████████| 17/17 [00:01<00:00, 16.58it/s]\n"
          ]
        },
        {
          "output_type": "stream",
          "name": "stdout",
          "text": [
            "Testverlust: 0.4235, Testgenauigkeit: 0.2078, Test F1-Score: 0.1052\n"
          ]
        },
        {
          "output_type": "stream",
          "name": "stderr",
          "text": [
            "Epoche 039 (Training): 100%|██████████| 120/120 [00:26<00:00,  4.61it/s, loss=0.4043]\n",
            "Evaluierung: 100%|██████████| 17/17 [00:01<00:00, 16.86it/s]\n"
          ]
        },
        {
          "output_type": "stream",
          "name": "stdout",
          "text": [
            "Testverlust: 0.4226, Testgenauigkeit: 0.2100, Test F1-Score: 0.1132\n"
          ]
        },
        {
          "output_type": "stream",
          "name": "stderr",
          "text": [
            "Epoche 040 (Training): 100%|██████████| 120/120 [00:26<00:00,  4.61it/s, loss=0.4136]\n",
            "Evaluierung: 100%|██████████| 17/17 [00:01<00:00, 16.45it/s]\n"
          ]
        },
        {
          "output_type": "stream",
          "name": "stdout",
          "text": [
            "Testverlust: 0.4220, Testgenauigkeit: 0.2079, Test F1-Score: 0.1052\n"
          ]
        },
        {
          "output_type": "stream",
          "name": "stderr",
          "text": [
            "Epoche 041 (Training): 100%|██████████| 120/120 [00:26<00:00,  4.61it/s, loss=0.3204]\n",
            "Evaluierung: 100%|██████████| 17/17 [00:01<00:00, 16.39it/s]\n"
          ]
        },
        {
          "output_type": "stream",
          "name": "stdout",
          "text": [
            "Testverlust: 0.4218, Testgenauigkeit: 0.2090, Test F1-Score: 0.1082\n"
          ]
        },
        {
          "output_type": "stream",
          "name": "stderr",
          "text": [
            "Epoche 042 (Training): 100%|██████████| 120/120 [00:25<00:00,  4.62it/s, loss=0.4987]\n",
            "Evaluierung: 100%|██████████| 17/17 [00:01<00:00, 16.95it/s]\n"
          ]
        },
        {
          "output_type": "stream",
          "name": "stdout",
          "text": [
            "Testverlust: 0.4208, Testgenauigkeit: 0.2100, Test F1-Score: 0.1132\n"
          ]
        },
        {
          "output_type": "stream",
          "name": "stderr",
          "text": [
            "Epoche 043 (Training): 100%|██████████| 120/120 [00:25<00:00,  4.62it/s, loss=0.3789]\n",
            "Evaluierung: 100%|██████████| 17/17 [00:01<00:00, 16.77it/s]\n"
          ]
        },
        {
          "output_type": "stream",
          "name": "stdout",
          "text": [
            "Testverlust: 0.4209, Testgenauigkeit: 0.2067, Test F1-Score: 0.1049\n"
          ]
        },
        {
          "output_type": "stream",
          "name": "stderr",
          "text": [
            "Epoche 044 (Training): 100%|██████████| 120/120 [00:26<00:00,  4.61it/s, loss=0.4436]\n",
            "Evaluierung: 100%|██████████| 17/17 [00:01<00:00, 16.64it/s]\n"
          ]
        },
        {
          "output_type": "stream",
          "name": "stdout",
          "text": [
            "Testverlust: 0.4204, Testgenauigkeit: 0.2085, Test F1-Score: 0.1052\n"
          ]
        },
        {
          "output_type": "stream",
          "name": "stderr",
          "text": [
            "Epoche 045 (Training): 100%|██████████| 120/120 [00:25<00:00,  4.62it/s, loss=0.3888]\n",
            "Evaluierung: 100%|██████████| 17/17 [00:01<00:00, 16.17it/s]\n"
          ]
        },
        {
          "output_type": "stream",
          "name": "stdout",
          "text": [
            "Testverlust: 0.4201, Testgenauigkeit: 0.2075, Test F1-Score: 0.1058\n"
          ]
        },
        {
          "output_type": "stream",
          "name": "stderr",
          "text": [
            "Epoche 046 (Training): 100%|██████████| 120/120 [00:26<00:00,  4.61it/s, loss=0.3974]\n",
            "Evaluierung: 100%|██████████| 17/17 [00:01<00:00, 16.77it/s]\n"
          ]
        },
        {
          "output_type": "stream",
          "name": "stdout",
          "text": [
            "Testverlust: 0.4200, Testgenauigkeit: 0.2084, Test F1-Score: 0.1052\n"
          ]
        },
        {
          "output_type": "stream",
          "name": "stderr",
          "text": [
            "Epoche 047 (Training): 100%|██████████| 120/120 [00:26<00:00,  4.61it/s, loss=0.4861]\n",
            "Evaluierung: 100%|██████████| 17/17 [00:01<00:00, 16.62it/s]\n"
          ]
        },
        {
          "output_type": "stream",
          "name": "stdout",
          "text": [
            "Testverlust: 0.4199, Testgenauigkeit: 0.2096, Test F1-Score: 0.1074\n"
          ]
        },
        {
          "output_type": "stream",
          "name": "stderr",
          "text": [
            "Epoche 048 (Training): 100%|██████████| 120/120 [00:26<00:00,  4.61it/s, loss=0.3962]\n",
            "Evaluierung: 100%|██████████| 17/17 [00:01<00:00, 16.54it/s]\n"
          ]
        },
        {
          "output_type": "stream",
          "name": "stdout",
          "text": [
            "Testverlust: 0.4204, Testgenauigkeit: 0.2085, Test F1-Score: 0.1052\n"
          ]
        },
        {
          "output_type": "stream",
          "name": "stderr",
          "text": [
            "Epoche 049 (Training): 100%|██████████| 120/120 [00:26<00:00,  4.60it/s, loss=0.3255]\n",
            "Evaluierung: 100%|██████████| 17/17 [00:01<00:00, 16.17it/s]\n"
          ]
        },
        {
          "output_type": "stream",
          "name": "stdout",
          "text": [
            "Testverlust: 0.4220, Testgenauigkeit: 0.2085, Test F1-Score: 0.1052\n"
          ]
        },
        {
          "output_type": "stream",
          "name": "stderr",
          "text": [
            "Epoche 050 (Training): 100%|██████████| 120/120 [00:26<00:00,  4.61it/s, loss=0.4887]\n",
            "Evaluierung: 100%|██████████| 17/17 [00:01<00:00, 16.83it/s]\n"
          ]
        },
        {
          "output_type": "stream",
          "name": "stdout",
          "text": [
            "Testverlust: 0.4377, Testgenauigkeit: 0.1823, Test F1-Score: 0.1045\n"
          ]
        },
        {
          "output_type": "stream",
          "name": "stderr",
          "text": [
            "Epoche 051 (Training): 100%|██████████| 120/120 [00:26<00:00,  4.61it/s, loss=0.5902]\n",
            "Evaluierung: 100%|██████████| 17/17 [00:01<00:00, 16.56it/s]\n"
          ]
        },
        {
          "output_type": "stream",
          "name": "stdout",
          "text": [
            "Testverlust: 0.5293, Testgenauigkeit: 0.1372, Test F1-Score: 0.1025\n"
          ]
        },
        {
          "output_type": "stream",
          "name": "stderr",
          "text": [
            "Epoche 052 (Training): 100%|██████████| 120/120 [00:25<00:00,  4.62it/s, loss=0.3771]\n",
            "Evaluierung: 100%|██████████| 17/17 [00:01<00:00, 16.36it/s]\n"
          ]
        },
        {
          "output_type": "stream",
          "name": "stdout",
          "text": [
            "Testverlust: 0.4294, Testgenauigkeit: 0.2026, Test F1-Score: 0.1061\n"
          ]
        },
        {
          "output_type": "stream",
          "name": "stderr",
          "text": [
            "Epoche 053 (Training): 100%|██████████| 120/120 [00:26<00:00,  4.61it/s, loss=0.5129]\n",
            "Evaluierung: 100%|██████████| 17/17 [00:01<00:00, 16.14it/s]\n"
          ]
        },
        {
          "output_type": "stream",
          "name": "stdout",
          "text": [
            "Testverlust: 0.4203, Testgenauigkeit: 0.2084, Test F1-Score: 0.1052\n"
          ]
        },
        {
          "output_type": "stream",
          "name": "stderr",
          "text": [
            "Epoche 054 (Training): 100%|██████████| 120/120 [00:26<00:00,  4.61it/s, loss=0.3828]\n",
            "Evaluierung: 100%|██████████| 17/17 [00:01<00:00, 16.49it/s]\n"
          ]
        },
        {
          "output_type": "stream",
          "name": "stdout",
          "text": [
            "Testverlust: 0.4196, Testgenauigkeit: 0.2084, Test F1-Score: 0.1052\n"
          ]
        },
        {
          "output_type": "stream",
          "name": "stderr",
          "text": [
            "Epoche 055 (Training): 100%|██████████| 120/120 [00:25<00:00,  4.62it/s, loss=0.4531]\n",
            "Evaluierung: 100%|██████████| 17/17 [00:01<00:00, 16.59it/s]\n"
          ]
        },
        {
          "output_type": "stream",
          "name": "stdout",
          "text": [
            "Testverlust: 0.4193, Testgenauigkeit: 0.2103, Test F1-Score: 0.1097\n"
          ]
        },
        {
          "output_type": "stream",
          "name": "stderr",
          "text": [
            "Epoche 056 (Training): 100%|██████████| 120/120 [00:25<00:00,  4.63it/s, loss=0.4798]\n",
            "Evaluierung: 100%|██████████| 17/17 [00:01<00:00, 16.36it/s]\n"
          ]
        },
        {
          "output_type": "stream",
          "name": "stdout",
          "text": [
            "Testverlust: 0.4191, Testgenauigkeit: 0.2085, Test F1-Score: 0.1053\n"
          ]
        },
        {
          "output_type": "stream",
          "name": "stderr",
          "text": [
            "Epoche 057 (Training): 100%|██████████| 120/120 [00:26<00:00,  4.62it/s, loss=0.3101]\n",
            "Evaluierung: 100%|██████████| 17/17 [00:01<00:00, 16.12it/s]\n"
          ]
        },
        {
          "output_type": "stream",
          "name": "stdout",
          "text": [
            "Testverlust: 0.4187, Testgenauigkeit: 0.2101, Test F1-Score: 0.1126\n"
          ]
        },
        {
          "output_type": "stream",
          "name": "stderr",
          "text": [
            "Epoche 058 (Training): 100%|██████████| 120/120 [00:25<00:00,  4.62it/s, loss=0.3211]\n",
            "Evaluierung: 100%|██████████| 17/17 [00:01<00:00, 16.57it/s]\n"
          ]
        },
        {
          "output_type": "stream",
          "name": "stdout",
          "text": [
            "Testverlust: 0.4182, Testgenauigkeit: 0.2106, Test F1-Score: 0.1124\n"
          ]
        },
        {
          "output_type": "stream",
          "name": "stderr",
          "text": [
            "Epoche 059 (Training): 100%|██████████| 120/120 [00:26<00:00,  4.61it/s, loss=0.3950]\n",
            "Evaluierung: 100%|██████████| 17/17 [00:01<00:00, 16.52it/s]\n"
          ]
        },
        {
          "output_type": "stream",
          "name": "stdout",
          "text": [
            "Testverlust: 0.4181, Testgenauigkeit: 0.2111, Test F1-Score: 0.1109\n"
          ]
        },
        {
          "output_type": "stream",
          "name": "stderr",
          "text": [
            "Epoche 060 (Training): 100%|██████████| 120/120 [00:25<00:00,  4.62it/s, loss=0.3635]\n",
            "Evaluierung: 100%|██████████| 17/17 [00:01<00:00, 15.95it/s]\n"
          ]
        },
        {
          "output_type": "stream",
          "name": "stdout",
          "text": [
            "Testverlust: 0.4171, Testgenauigkeit: 0.2108, Test F1-Score: 0.1124\n"
          ]
        },
        {
          "output_type": "stream",
          "name": "stderr",
          "text": [
            "Epoche 061 (Training): 100%|██████████| 120/120 [00:25<00:00,  4.62it/s, loss=0.3886]\n",
            "Evaluierung: 100%|██████████| 17/17 [00:01<00:00, 16.45it/s]\n"
          ]
        },
        {
          "output_type": "stream",
          "name": "stdout",
          "text": [
            "Testverlust: 0.4150, Testgenauigkeit: 0.2109, Test F1-Score: 0.1107\n"
          ]
        },
        {
          "output_type": "stream",
          "name": "stderr",
          "text": [
            "Epoche 062 (Training): 100%|██████████| 120/120 [00:25<00:00,  4.62it/s, loss=0.6233]\n",
            "Evaluierung: 100%|██████████| 17/17 [00:01<00:00, 16.31it/s]\n"
          ]
        },
        {
          "output_type": "stream",
          "name": "stdout",
          "text": [
            "Testverlust: 0.4142, Testgenauigkeit: 0.2110, Test F1-Score: 0.1126\n"
          ]
        },
        {
          "output_type": "stream",
          "name": "stderr",
          "text": [
            "Epoche 063 (Training): 100%|██████████| 120/120 [00:25<00:00,  4.62it/s, loss=0.4152]\n",
            "Evaluierung: 100%|██████████| 17/17 [00:01<00:00, 16.64it/s]\n"
          ]
        },
        {
          "output_type": "stream",
          "name": "stdout",
          "text": [
            "Testverlust: 0.4135, Testgenauigkeit: 0.2109, Test F1-Score: 0.1123\n"
          ]
        },
        {
          "output_type": "stream",
          "name": "stderr",
          "text": [
            "Epoche 064 (Training): 100%|██████████| 120/120 [00:26<00:00,  4.61it/s, loss=0.4809]\n",
            "Evaluierung: 100%|██████████| 17/17 [00:01<00:00, 15.74it/s]\n"
          ]
        },
        {
          "output_type": "stream",
          "name": "stdout",
          "text": [
            "Testverlust: 0.4123, Testgenauigkeit: 0.2112, Test F1-Score: 0.1100\n"
          ]
        },
        {
          "output_type": "stream",
          "name": "stderr",
          "text": [
            "Epoche 065 (Training): 100%|██████████| 120/120 [00:26<00:00,  4.60it/s, loss=0.3401]\n",
            "Evaluierung: 100%|██████████| 17/17 [00:01<00:00, 16.57it/s]\n"
          ]
        },
        {
          "output_type": "stream",
          "name": "stdout",
          "text": [
            "Testverlust: 0.4125, Testgenauigkeit: 0.2111, Test F1-Score: 0.1098\n"
          ]
        },
        {
          "output_type": "stream",
          "name": "stderr",
          "text": [
            "Epoche 066 (Training): 100%|██████████| 120/120 [00:25<00:00,  4.62it/s, loss=0.3766]\n",
            "Evaluierung: 100%|██████████| 17/17 [00:01<00:00, 16.58it/s]\n"
          ]
        },
        {
          "output_type": "stream",
          "name": "stdout",
          "text": [
            "Testverlust: 0.4114, Testgenauigkeit: 0.2109, Test F1-Score: 0.1099\n"
          ]
        },
        {
          "output_type": "stream",
          "name": "stderr",
          "text": [
            "Epoche 067 (Training): 100%|██████████| 120/120 [00:26<00:00,  4.61it/s, loss=0.3321]\n",
            "Evaluierung: 100%|██████████| 17/17 [00:01<00:00, 16.65it/s]\n"
          ]
        },
        {
          "output_type": "stream",
          "name": "stdout",
          "text": [
            "Testverlust: 0.4116, Testgenauigkeit: 0.2101, Test F1-Score: 0.1120\n"
          ]
        },
        {
          "output_type": "stream",
          "name": "stderr",
          "text": [
            "Epoche 068 (Training): 100%|██████████| 120/120 [00:26<00:00,  4.61it/s, loss=0.5133]\n",
            "Evaluierung: 100%|██████████| 17/17 [00:01<00:00, 16.39it/s]\n"
          ]
        },
        {
          "output_type": "stream",
          "name": "stdout",
          "text": [
            "Testverlust: 0.4128, Testgenauigkeit: 0.2114, Test F1-Score: 0.1099\n"
          ]
        },
        {
          "output_type": "stream",
          "name": "stderr",
          "text": [
            "Epoche 069 (Training): 100%|██████████| 120/120 [00:26<00:00,  4.61it/s, loss=0.4881]\n",
            "Evaluierung: 100%|██████████| 17/17 [00:01<00:00, 16.30it/s]\n"
          ]
        },
        {
          "output_type": "stream",
          "name": "stdout",
          "text": [
            "Testverlust: 0.4134, Testgenauigkeit: 0.2105, Test F1-Score: 0.1101\n"
          ]
        },
        {
          "output_type": "stream",
          "name": "stderr",
          "text": [
            "Epoche 070 (Training): 100%|██████████| 120/120 [00:26<00:00,  4.61it/s, loss=0.4713]\n",
            "Evaluierung: 100%|██████████| 17/17 [00:01<00:00, 16.66it/s]\n"
          ]
        },
        {
          "output_type": "stream",
          "name": "stdout",
          "text": [
            "Testverlust: 0.4385, Testgenauigkeit: 0.1704, Test F1-Score: 0.1136\n"
          ]
        },
        {
          "output_type": "stream",
          "name": "stderr",
          "text": [
            "Epoche 071 (Training): 100%|██████████| 120/120 [00:25<00:00,  4.62it/s, loss=0.5383]\n",
            "Evaluierung: 100%|██████████| 17/17 [00:01<00:00, 16.58it/s]\n"
          ]
        },
        {
          "output_type": "stream",
          "name": "stdout",
          "text": [
            "Testverlust: 0.5233, Testgenauigkeit: 0.1633, Test F1-Score: 0.1168\n"
          ]
        },
        {
          "output_type": "stream",
          "name": "stderr",
          "text": [
            "Epoche 072 (Training): 100%|██████████| 120/120 [00:26<00:00,  4.61it/s, loss=0.3562]\n",
            "Evaluierung: 100%|██████████| 17/17 [00:01<00:00, 16.66it/s]\n"
          ]
        },
        {
          "output_type": "stream",
          "name": "stdout",
          "text": [
            "Testverlust: 0.4168, Testgenauigkeit: 0.2072, Test F1-Score: 0.1074\n"
          ]
        },
        {
          "output_type": "stream",
          "name": "stderr",
          "text": [
            "Epoche 073 (Training): 100%|██████████| 120/120 [00:26<00:00,  4.61it/s, loss=0.4313]\n"
          ]
        },
        {
          "output_type": "stream",
          "name": "stdout",
          "text": [
            "Training wird vorzeitig abgebrochen.\n"
          ]
        },
        {
          "output_type": "stream",
          "name": "stderr",
          "text": [
            "Evaluierung: 100%|██████████| 17/17 [00:01<00:00, 16.00it/s]\n"
          ]
        },
        {
          "output_type": "stream",
          "name": "stdout",
          "text": [
            "Testverlust: 0.4128, Testgenauigkeit: 0.2106, Test F1-Score: 0.1109\n",
            "Bestes Modell erfolgreich gespeichert.\n"
          ]
        },
        {
          "output_type": "display_data",
          "data": {
            "text/plain": [
              "<Figure size 1200x600 with 2 Axes>"
            ],
            "image/png": "[encoded data removed]"
          },
          "metadata": {}
        },
        {
          "output_type": "stream",
          "name": "stdout",
          "text": [
            "train_model() abgeschlossen.\n"
          ]
        }
      ],
      "source": [
        "import logging\n",
        "import torch\n",
        "import torch.nn as nn\n",
        "import torch.nn.functional as F\n",
        "import torch.optim as optim\n",
        "from torch.utils.data import DataLoader, Dataset, random_split\n",
        "from typing import List, Tuple, Dict, Iterator\n",
        "import re\n",
        "from dataclasses import dataclass, field, asdict\n",
        "from pathlib import Path\n",
        "import random\n",
        "import numpy as np\n",
        "from tqdm import tqdm\n",
        "import yaml\n",
        "from sklearn.metrics import accuracy_score, f1_score\n",
        "import matplotlib.pyplot as plt\n",
        "import optuna\n",
        "\n",
        "# Debug-Modus\n",
        "DEBUG_MODE = False\n",
        "\n",
        "# Konstanten\n",
        "PAD_INDEX = 0\n",
        "UNK_INDEX = 1\n",
        "SOS_INDEX = 2\n",
        "EOS_INDEX = 3\n",
        "\n",
        "# --------------------------------------------------\n",
        "# 1) Konfigurationsklasse mit aktualisiertem load_config\n",
        "# --------------------------------------------------\n",
        "@dataclass\n",
        "class Config:\n",
        "    data_path: str = None\n",
        "    log_file: str = \"training.log\"\n",
        "    embedding_dim: int = None\n",
        "    memory_size: int = None\n",
        "    learning_rate: float = None\n",
        "    batch_size: int = None\n",
        "    max_seq_length: int = None\n",
        "    train_size_ratio: float = None\n",
        "    val_size_ratio: float = None\n",
        "    epochs: int = None\n",
        "    accumulation_steps: int = None\n",
        "    write_strength: float = None\n",
        "    patience: int = None\n",
        "    save_path: str = None\n",
        "    device: torch.device = field(init=False)\n",
        "\n",
        "    def __post_init__(self):\n",
        "        \"\"\"\n",
        "        Der Konstruktor wird nach der Initialisierung aufgerufen und setzt das Gerät\n",
        "        (CPU oder GPU) entsprechend der verfügbaren Hardware.\n",
        "        \"\"\"\n",
        "        self.device = torch.device(\"cuda\" if torch.cuda.is_available() else \"cpu\")\n",
        "        print(f\"Gerät: {self.device}\")\n",
        "\n",
        "    def load_config(self, config_source: str | dict = \"config.yaml\"):\n",
        "        \"\"\"\n",
        "        Lädt die Konfiguration entweder aus einer YAML-Datei (Pfad als str)\n",
        "        oder direkt aus einem Dictionary, z. B. study.best_params.\n",
        "\n",
        "        Durch strukturelles Pattern Matching (PEP 636) können wir die Eingaben\n",
        "        in unterschiedlichen Fällen behandeln.\n",
        "        \"\"\"\n",
        "        match config_source:\n",
        "            case str() as path:  # Falls der Nutzer einen Pfad (String) übergibt\n",
        "                try:\n",
        "                    with open(path, \"r\", encoding=\"utf-8\") as f:\n",
        "                        config_yaml = yaml.safe_load(f)\n",
        "                        print(f\"Konfiguration aus Datei '{path}' geladen: {config_yaml}\")\n",
        "                        for key, value in config_yaml.items():\n",
        "                            if hasattr(self, key):\n",
        "                                setattr(self, key, value)\n",
        "                            else:\n",
        "                                logging.warning(f\"Unbekannte Konfigurations-Option: {key}\")\n",
        "                    self._validate_config()\n",
        "                except Exception as e:\n",
        "                    logging.error(f\"Fehler beim Laden der Konfiguration: {e}\")\n",
        "                    raise\n",
        "\n",
        "            case dict() as param_dict:  # Falls ein Dictionary (z. B. study.best_params) übergeben wird\n",
        "                print(f\"Konfiguration aus Dictionary geladen: {param_dict}\")\n",
        "                for key, value in param_dict.items():\n",
        "                    if hasattr(self, key):\n",
        "                        setattr(self, key, value)\n",
        "                    else:\n",
        "                        logging.warning(f\"Unbekannte Konfigurations-Option: {key}\")\n",
        "                self._validate_config()\n",
        "\n",
        "            case _:\n",
        "                # Falls ein anderer Typ übergeben wird, geben wir eine präzisere Fehlermeldung (PEP 626).\n",
        "                raise TypeError(\n",
        "                    f\"Unsupported config source type: {type(config_source).__name__}. \"\n",
        "                    f\"Erwartet wurde str (Dateipfad) oder dict (Parameter).\"\n",
        "                )\n",
        "\n",
        "    def _validate_config(self):\n",
        "        \"\"\"\n",
        "        Stellt sicher, dass alle wichtigen Felder gesetzt und gültig sind.\n",
        "        Wir brechen ab, falls eine fehlerhafte Konfiguration vorliegt.\n",
        "        \"\"\"\n",
        "        if self.learning_rate is None or self.learning_rate <= 0:\n",
        "            raise ValueError(\"Lernrate muss positiv sein.\")\n",
        "        if self.batch_size is None or self.batch_size <= 0:\n",
        "            raise ValueError(\"Batch-Größe muss positiv sein.\")\n",
        "        if self.train_size_ratio is None or self.val_size_ratio is None:\n",
        "            raise ValueError(\"Train & Val Ratio nicht definiert.\")\n",
        "        if not (0 < self.train_size_ratio < 1) or not (0 <= self.val_size_ratio < 1) or (self.train_size_ratio + self.val_size_ratio >= 1):\n",
        "            raise ValueError(\"Train & Val Ratio müssen zwischen 0 und 1 liegen und kleiner als 1 sein.\")\n",
        "\n",
        "    def save_config(self) -> Dict:\n",
        "        \"\"\"Sichert relevante Konfigurationsattribute in einem Dict.\"\"\"\n",
        "        return asdict(self)\n",
        "\n",
        "# --------------------------------------------------\n",
        "# 2) Konfiguration laden (erste Datei-Ladung aus config.yaml)\n",
        "# --------------------------------------------------\n",
        "with open(\"config.yaml\", \"r\", encoding=\"utf-8\") as f:\n",
        "    config_data = yaml.safe_load(f)\n",
        "CONFIG = Config(**config_data)\n",
        "\n",
        "# Gerät\n",
        "DEVICE = CONFIG.device\n",
        "\n",
        "# Logging\n",
        "logging.basicConfig(\n",
        "    filename=CONFIG.log_file,\n",
        "    level=logging.INFO,\n",
        "    format='%(asctime)s - %(levelname)s - %(message)s',\n",
        "    filemode='w'\n",
        ")\n",
        "logger = logging.getLogger(__name__)  # Logger\n",
        "\n",
        "# Seed setzen für Reproduzierbarkeit\n",
        "def set_seed(seed: int):\n",
        "    random.seed(seed)\n",
        "    np.random.seed(seed)\n",
        "    torch.manual_seed(seed)\n",
        "    if torch.cuda.is_available():\n",
        "        torch.cuda.manual_seed_all(seed)\n",
        "\n",
        "set_seed(42)\n",
        "print(\"Seed gesetzt.\")\n",
        "\n",
        "# --------------------------------------------------\n",
        "# 3) Klassen und Funktionen: DifferentiableMemory, Controller, Vokabular, Dataset\n",
        "# --------------------------------------------------\n",
        "class DifferentiableMemory(nn.Module):\n",
        "    \"\"\"\n",
        "    Eine einfache Implementierung eines differenzierbaren Speichers.\n",
        "    Enthält Keys und Values, die beim Lesen und Schreiben aktualisiert werden.\n",
        "    \"\"\"\n",
        "    def __init__(self, memory_size: int, embedding_size: int, device=DEVICE):\n",
        "        super(DifferentiableMemory, self).__init__()\n",
        "        self.keys = nn.Parameter(torch.randn(memory_size, embedding_size, device=device))\n",
        "        self.values = nn.Parameter(torch.randn(memory_size, embedding_size, device=device))\n",
        "        self.embedding_size = embedding_size\n",
        "        self.memory_size = memory_size\n",
        "        self.device = device\n",
        "        self._initialize_weights()\n",
        "        # Usage-Counts nur zu Debug-/Analyse-Zwecken\n",
        "        self.usage_counts = nn.Parameter(torch.ones(memory_size, device=device), requires_grad=False)\n",
        "\n",
        "    def _initialize_weights(self):\n",
        "        nn.init.kaiming_uniform_(self.keys)\n",
        "        nn.init.kaiming_uniform_(self.values)\n",
        "\n",
        "    def read(self, query: torch.Tensor) -> torch.Tensor:\n",
        "        \"\"\"\n",
        "        Führt einen 'Lese'-Vorgang im Speicher durch:\n",
        "        1) Berechnet Skalarprodukte zwischen query und allen keys.\n",
        "        2) Wendet Softmax an, um Attention-Gewichte zu erhalten.\n",
        "        3) Mischt die Values entsprechend der Attention-Gewichte zusammen.\n",
        "        \"\"\"\n",
        "        scores = torch.matmul(query, self.keys.T)\n",
        "        attention_weights = F.softmax(scores, dim=-1)\n",
        "        memory_output = torch.matmul(attention_weights, self.values)\n",
        "\n",
        "        # Usage-Counts hochzählen für das am stärksten aktivierte Memory-Element\n",
        "        activated_memory_indices = torch.argmax(scores, dim=-1)\n",
        "        self.usage_counts[activated_memory_indices] += 1\n",
        "        return memory_output\n",
        "\n",
        "    def write(self, updated_keys: torch.Tensor, updated_values: torch.Tensor, write_strength: float):\n",
        "        \"\"\"\n",
        "        Aktualisiert die Keys und Values mit einer bestimmten Schreibstärke 'write_strength'.\n",
        "        Hier wird batchweise gemittelt und die Parameter direkt manipuliert.\n",
        "        \"\"\"\n",
        "        updated_keys = F.normalize(updated_keys, dim=-1)\n",
        "        updated_values = F.normalize(updated_values, dim=-1)\n",
        "\n",
        "        batch_size = updated_keys.shape[0]\n",
        "        if batch_size != self.memory_size:\n",
        "            # Mittelt, falls batch_size != memory_size\n",
        "            updated_keys = updated_keys.mean(dim=0, keepdim=True).expand(self.memory_size, -1)\n",
        "            updated_values = updated_values.mean(dim=0, keepdim=True).expand(self.memory_size, -1)\n",
        "\n",
        "        # Parameter-Update\n",
        "        with torch.no_grad():\n",
        "            self.keys.copy_((1 - write_strength) * self.keys.data + write_strength * updated_keys)\n",
        "            self.values.copy_((1 - write_strength) * self.values.data + write_strength * updated_values)\n",
        "\n",
        "            self.keys.copy_(F.normalize(self.keys, dim=1))\n",
        "            self.values.copy_(F.normalize(self.values, dim=1))\n",
        "\n",
        "        if DEBUG_MODE:\n",
        "            print(\"Aktualisierte Memory-Parameter (write).\")\n",
        "\n",
        "    def write_as_mean(self, updated_keys: torch.Tensor, updated_values: torch.Tensor, write_strength: float):\n",
        "        \"\"\"\n",
        "        Alternative 'write'-Methode, bei der zuerst über die Sequenzdimension gemittelt wird.\n",
        "        \"\"\"\n",
        "        updated_keys = F.normalize(updated_keys, dim=-1)\n",
        "        updated_values = F.normalize(updated_values, dim=-1)\n",
        "\n",
        "        with torch.no_grad():\n",
        "            # Durchschnitt über alle Samples hinweg\n",
        "            mean_keys = updated_keys.mean(dim=0, keepdim=True)\n",
        "            mean_values = updated_values.mean(dim=0, keepdim=True)\n",
        "\n",
        "            self.keys.copy_((1 - write_strength) * self.keys.data + write_strength * mean_keys)\n",
        "            self.values.copy_((1 - write_strength) * self.values.data + write_strength * mean_values)\n",
        "\n",
        "            self.keys.copy_(F.normalize(self.keys, dim=1))\n",
        "            self.values.copy_(F.normalize(self.values, dim=1))\n",
        "\n",
        "        if DEBUG_MODE:\n",
        "            print(\"Aktualisierte Memory-Parameter (write_as_mean).\")\n",
        "\n",
        "\n",
        "class Controller(nn.Module):\n",
        "    \"\"\"\n",
        "    Das Hauptmodell, welches die Memory-Komponente nutzt.\n",
        "    - Embedding-Schicht\n",
        "    - Schlüssel-Transformation (fc_query)\n",
        "    - GRU-RNN\n",
        "    - Ausgabe-Projektion (fc_output)\n",
        "    \"\"\"\n",
        "    def __init__(self, embedding_size: int, memory_embedding_size: int, vocab_size: int, memory_size: int, device: torch.device = DEVICE):\n",
        "        super(Controller, self).__init__()\n",
        "        self.memory = DifferentiableMemory(memory_size, memory_embedding_size, device)\n",
        "        self.embedding = nn.Embedding(vocab_size, embedding_size)\n",
        "        self.fc_query = nn.Linear(embedding_size, memory_embedding_size)\n",
        "        self.fc_query_act = nn.GELU()\n",
        "        self.rnn = nn.GRU(memory_embedding_size, 256, num_layers=2, batch_first=True)\n",
        "        self.fc1 = nn.Linear(256, 256)\n",
        "        self.fc1_act = nn.GELU()\n",
        "        self.dropout = nn.Dropout(0.3)\n",
        "        self.fc_output = nn.Linear(256, vocab_size)\n",
        "        self.fc_output_act = nn.GELU()\n",
        "\n",
        "        # Für das Aktualisieren der Memory-Keys/Values\n",
        "        self.fc_query_memory = nn.Linear(memory_embedding_size, memory_embedding_size)\n",
        "        self.fc_query_memory_act = nn.GELU()\n",
        "        self.fc_value_memory = nn.Linear(vocab_size, memory_embedding_size)\n",
        "        self.fc_value_memory_act = nn.GELU()\n",
        "\n",
        "        self.device = device\n",
        "        self._init_layers()\n",
        "\n",
        "    def _init_layers(self):\n",
        "        nn.init.kaiming_uniform_(self.fc_query.weight)\n",
        "        nn.init.zeros_(self.fc_query.bias)\n",
        "        nn.init.kaiming_uniform_(self.fc1.weight)\n",
        "        nn.init.zeros_(self.fc1.bias)\n",
        "        nn.init.kaiming_uniform_(self.fc_output.weight)\n",
        "        nn.init.zeros_(self.fc_output.bias)\n",
        "        nn.init.normal_(self.embedding.weight, mean=0.0, std=0.1)\n",
        "\n",
        "    def forward(self, inputs: torch.Tensor) -> Tuple[torch.Tensor, torch.Tensor]:\n",
        "        \"\"\"\n",
        "        Vorwärtsdurchlauf:\n",
        "        1) Embedding\n",
        "        2) fc_query -> Transformation auf Memory-Space\n",
        "        3) Memory read\n",
        "        4) GRU\n",
        "        5) Ausgabe-Projektion\n",
        "        \"\"\"\n",
        "        embedded = self.embedding(inputs)\n",
        "        query = self.fc_query(embedded)\n",
        "        query = self.fc_query_act(query)\n",
        "\n",
        "        memory_output = self.memory.read(query)\n",
        "\n",
        "        rnn_output, _ = self.rnn(memory_output)\n",
        "        hidden = self.fc1(rnn_output)\n",
        "        hidden = self.fc1_act(hidden)\n",
        "        hidden = self.dropout(hidden)\n",
        "\n",
        "        output = self.fc_output(hidden)\n",
        "        output = self.fc_output_act(output)\n",
        "        return output, query\n",
        "\n",
        "\n",
        "class Vocabulary:\n",
        "    \"\"\"\n",
        "    Verwaltet die Abbildung von Token -> Index und Index -> Token.\n",
        "    \"\"\"\n",
        "    def __init__(self, special_tokens=None):\n",
        "        self.token_to_index = {}\n",
        "        self.index_to_token = []\n",
        "        self.special_tokens = special_tokens if special_tokens else []\n",
        "        for token in self.special_tokens:\n",
        "            self.add_token(token)\n",
        "        self.unk_index = self.token_to_index.get(\"<unk>\", 0)\n",
        "\n",
        "    def add_token(self, token):\n",
        "        if token not in self.token_to_index:\n",
        "            self.token_to_index[token] = len(self.index_to_token)\n",
        "            self.index_to_token.append(token)\n",
        "\n",
        "    def __len__(self):\n",
        "        return len(self.index_to_token)\n",
        "\n",
        "    def __getitem__(self, token):\n",
        "        return self.token_to_index.get(token, self.unk_index)\n",
        "\n",
        "    def get_itos(self):\n",
        "        return self.index_to_token\n",
        "\n",
        "    def set_default_index(self, index):\n",
        "        self.unk_index = index\n",
        "\n",
        "    def get_index(self, token):\n",
        "        return self.token_to_index.get(token, self.unk_index)\n",
        "\n",
        "    def __contains__(self, token):\n",
        "        return token in self.token_to_index\n",
        "\n",
        "\n",
        "def create_vocab_from_iterator(iterator: Iterator[List[str]], special_tokens: List[str]) -> Vocabulary:\n",
        "    vocab = Vocabulary(special_tokens)\n",
        "    for tokens in iterator:\n",
        "        for token in tokens:\n",
        "            vocab.add_token(token)\n",
        "    return vocab\n",
        "\n",
        "\n",
        "def create_tokenizer(text: str, special_chars=r\"[^a-zA-Z0-9\\s.,?!]\"):\n",
        "    \"\"\"\n",
        "    Zerlegt den Text in kleinere Tokens, kümmert sich um Satzzeichen,\n",
        "    Kleinbuchstaben und Filterung von Sonderzeichen.\n",
        "    \"\"\"\n",
        "    text = text.lower()\n",
        "    text = re.sub(r\"([.,?!])\", r\" \\1 \", text)\n",
        "    text = re.sub(special_chars, \"\", text)\n",
        "    return re.findall(r'\\b\\w+|\\S\\b', text)\n",
        "\n",
        "\n",
        "class TextDataset(Dataset):\n",
        "    \"\"\"\n",
        "    Dataset, das Zeilen aus einer Textdatei lädt, tokenisiert und in Zahlen übersetzt.\n",
        "    \"\"\"\n",
        "    def __init__(self, data_path: str, tokenizer, vocab: Vocabulary, max_seq_length: int):\n",
        "        self.tokenizer = tokenizer\n",
        "        self.vocab = vocab\n",
        "        self.max_seq_length = max_seq_length\n",
        "        self.data_path = data_path\n",
        "        self.lines = self._load_lines(data_path)\n",
        "\n",
        "    def _load_lines(self, data_path: str) -> List[str]:\n",
        "        try:\n",
        "            with open(data_path, \"r\", encoding=\"utf-8\") as f:\n",
        "                return [line.strip() for line in f if line.strip()]\n",
        "        except Exception as e:\n",
        "            logging.error(f\"Fehler beim Einlesen der Datei {data_path}: {e}\")\n",
        "            raise\n",
        "\n",
        "    def __len__(self) -> int:\n",
        "        return len(self.lines)\n",
        "\n",
        "    def __getitem__(self, idx: int) -> Tuple[torch.Tensor, torch.Tensor]:\n",
        "        text = self.lines[idx]\n",
        "        tokens = self.tokenizer(text)\n",
        "        tokens_ids = [self.vocab[token] for token in tokens]\n",
        "\n",
        "        # Eingabe (Input) vorbereiten\n",
        "        input_ids = [self.vocab[\"<sos>\"]] + tokens_ids\n",
        "        input_ids = input_ids[:self.max_seq_length]\n",
        "        input_ids = torch.tensor(input_ids, dtype=torch.long)\n",
        "        padding_length = self.max_seq_length - len(input_ids)\n",
        "        input_ids = F.pad(input_ids, (0, padding_length), value=self.vocab[\"<pad>\"])\n",
        "\n",
        "        # Ziel (Target) vorbereiten\n",
        "        target_ids = tokens_ids + [self.vocab[\"<eos>\"]]\n",
        "        target_ids = target_ids[:self.max_seq_length]\n",
        "        target_ids = torch.tensor(target_ids, dtype=torch.long)\n",
        "        target_padding_length = self.max_seq_length - len(target_ids)\n",
        "        target_ids = F.pad(target_ids, (0, target_padding_length), value=self.vocab[\"<pad>\"])\n",
        "\n",
        "        return input_ids, target_ids\n",
        "\n",
        "\n",
        "# --------------------------------------------------\n",
        "# 4) Trainings- und Evaluierungsfunktionen\n",
        "# --------------------------------------------------\n",
        "def train_model_epoch(\n",
        "    model: nn.Module,\n",
        "    train_dataloader: DataLoader,\n",
        "    optimizer: optim.Optimizer,\n",
        "    criterion,\n",
        "    epoch: int,\n",
        "    accumulation_steps: int,\n",
        "    write_strength: float,\n",
        "    clip_value: float\n",
        ") -> float:\n",
        "    \"\"\"\n",
        "    Führt eine komplette Trainings-Epoche durch mit optionaler Gradientenakkumulation.\n",
        "    \"\"\"\n",
        "    model.train()\n",
        "    epoch_loss = 0.0\n",
        "    progress_bar = tqdm(enumerate(train_dataloader), total=len(train_dataloader), desc=f\"Epoche {epoch + 1:03d} (Training)\")\n",
        "\n",
        "    for batch_idx, (inputs, targets) in progress_bar:\n",
        "        inputs, targets = inputs.to(DEVICE), targets.to(DEVICE)\n",
        "        outputs, query = model(inputs)\n",
        "        loss = criterion(F.log_softmax(outputs, dim=-1).view(-1, outputs.size(-1)), targets.view(-1))\n",
        "        loss = loss / accumulation_steps\n",
        "\n",
        "        optimizer.zero_grad()\n",
        "        loss.backward()\n",
        "        torch.nn.utils.clip_grad_norm_(model.parameters(), clip_value)\n",
        "\n",
        "        if (batch_idx + 1) % accumulation_steps == 0:\n",
        "            optimizer.step()\n",
        "\n",
        "            # Memory Update\n",
        "            query_for_memory = model.fc_query_memory(query)\n",
        "            query_for_memory = model.fc_query_memory_act(query_for_memory)\n",
        "            outputs_for_memory = model.fc_value_memory(outputs)\n",
        "            outputs_for_memory = model.fc_value_memory_act(outputs_for_memory)\n",
        "\n",
        "            # Mitteln über die Sequenzdimension\n",
        "            query_for_memory = query_for_memory.mean(dim=1)\n",
        "            outputs_for_memory = outputs_for_memory.mean(dim=1)\n",
        "\n",
        "            model.memory.write_as_mean(query_for_memory, outputs_for_memory, write_strength)\n",
        "\n",
        "        epoch_loss += loss.item()\n",
        "        progress_bar.set_postfix({\"loss\": f\"{loss.item() * accumulation_steps:.4f}\"})\n",
        "\n",
        "    avg_epoch_loss = epoch_loss / len(train_dataloader)\n",
        "    logger.info(f\"Epoche {epoch + 1:03d} Trainingsverlust: {avg_epoch_loss:.4f}\")\n",
        "    return avg_epoch_loss\n",
        "\n",
        "\n",
        "def validate_model(model: nn.Module, val_dataloader: DataLoader, criterion) -> float:\n",
        "    \"\"\"\n",
        "    Validiert das Modell und gibt den durchschnittlichen Validierungsverlust zurück.\n",
        "    \"\"\"\n",
        "    if len(val_dataloader) == 0:\n",
        "        print(\"Keine Validierungsdaten verfügbar. Überspringe Validierung.\")\n",
        "        logger.warning(\"Keine Validierungsdaten verfügbar. Überspringe Validierung.\")\n",
        "        return float('inf')\n",
        "\n",
        "    model.eval()\n",
        "    val_loss = 0.0\n",
        "    with torch.no_grad():\n",
        "        for val_inputs, val_targets in val_dataloader:\n",
        "            val_inputs, val_targets = val_inputs.to(DEVICE), val_targets.to(DEVICE)\n",
        "            val_outputs, _ = model(val_inputs)\n",
        "            val_loss += criterion(\n",
        "                F.log_softmax(val_outputs, dim=-1).view(-1, val_outputs.size(-1)),\n",
        "                val_targets.view(-1)\n",
        "            ).item()\n",
        "\n",
        "    avg_val_loss = val_loss / len(val_dataloader)\n",
        "    logger.info(f'Validierungsverlust: {avg_val_loss:.4f}')\n",
        "    return avg_val_loss\n",
        "\n",
        "\n",
        "def calculate_metrics(predictions: torch.Tensor, targets: torch.Tensor, pad_index: int) -> Tuple[float, float]:\n",
        "    \"\"\"\n",
        "    Berechnet Accuracy und F1-Score und ignoriert dabei Padding-Tokens.\n",
        "    \"\"\"\n",
        "    # predictions hat Shape [batch, seq, vocab_size], wir wählen Argmax über dim=-1\n",
        "    predictions = torch.argmax(predictions, dim=-1)\n",
        "\n",
        "    # Padding ignorieren\n",
        "    mask = targets != pad_index\n",
        "    if not mask.any():\n",
        "        return 0.0, 0.0\n",
        "\n",
        "    masked_targets = targets[mask].cpu().numpy()\n",
        "    masked_predictions = predictions[mask].cpu().numpy()\n",
        "\n",
        "    # Optional zum Debuggen (kann viel ausgeben, falls Debug an ist):\n",
        "    if DEBUG_MODE:\n",
        "        print(\"Maskierte Ziele (erste 10):\", masked_targets[:10])\n",
        "        print(\"Maskierte Vorhersagen (erste 10):\", masked_predictions[:10])\n",
        "\n",
        "    accuracy = accuracy_score(masked_targets, masked_predictions)\n",
        "    f1 = f1_score(masked_targets, masked_predictions, average='weighted', zero_division=1)\n",
        "    return accuracy, f1\n",
        "\n",
        "\n",
        "def evaluate_model(model: nn.Module, test_dataloader: DataLoader, criterion, vocab: Vocabulary) -> Tuple[float, float, float]:\n",
        "    \"\"\"\n",
        "    Testet das Modell auf dem Test-Dataset und berechnet den Durchschnittsverlust,\n",
        "    die Genauigkeit und den F1-Score. Hier in einer speicherschonenden Variante:\n",
        "    Wir akkumulieren Metriken batchweise.\n",
        "    \"\"\"\n",
        "    model.eval()\n",
        "    total_batches = len(test_dataloader)\n",
        "\n",
        "    if total_batches == 0:\n",
        "        print(\"Kein Test-Daten verfügbar.\")\n",
        "        logger.warning(\"Kein Test-Daten verfügbar.\")\n",
        "        return float('inf'), 0.0, 0.0\n",
        "\n",
        "    total_loss = 0.0\n",
        "    total_accuracy = 0.0\n",
        "    total_f1 = 0.0\n",
        "    total_samples = 0  # Anzahl Batches oder Sätze; hier definieren wir es als \"Anzahl Batches\"\n",
        "\n",
        "    # Wenn Sie pro Token gewichten wollen, müssen Sie die Token-Anzahl tracken.\n",
        "    # Hier gewichten wir pauschal nach Batchgröße (Anzahl Sequenzen).\n",
        "\n",
        "    with torch.no_grad():\n",
        "        for batch_idx, (test_inputs, test_targets) in enumerate(tqdm(test_dataloader, desc=\"Evaluierung\")):\n",
        "            test_inputs, test_targets = test_inputs.to(DEVICE), test_targets.to(DEVICE)\n",
        "            test_outputs, _ = model(test_inputs)\n",
        "\n",
        "            # Durchschnittlicher Loss für den Batch\n",
        "            loss = criterion(\n",
        "                F.log_softmax(test_outputs, dim=-1).view(-1, test_outputs.size(-1)),\n",
        "                test_targets.view(-1)\n",
        "            )\n",
        "            total_loss += loss.item()\n",
        "\n",
        "            # pro-Batch-Accuracy und -F1\n",
        "            batch_accuracy, batch_f1 = calculate_metrics(test_outputs, test_targets, vocab.get_index(\"<pad>\"))\n",
        "\n",
        "            # Hier gewichten wir mit batch_size, damit größere Batches auch stärker einfließen.\n",
        "            batch_size = test_inputs.size(0)\n",
        "            total_accuracy += batch_accuracy * batch_size\n",
        "            total_f1 += batch_f1 * batch_size\n",
        "            total_samples += batch_size\n",
        "\n",
        "    avg_test_loss = total_loss / total_batches\n",
        "    # Damit jede einzelne Sequenz das gleiche Gewicht hat:\n",
        "    avg_accuracy = total_accuracy / total_samples if total_samples > 0 else 0.0\n",
        "    avg_f1 = total_f1 / total_samples if total_samples > 0 else 0.0\n",
        "\n",
        "    logger.info(f\"Testverlust: {avg_test_loss:.4f}, Testgenauigkeit: {avg_accuracy:.4f}, Test F1-Score: {avg_f1:.4f}\")\n",
        "    print(f\"Testverlust: {avg_test_loss:.4f}, Testgenauigkeit: {avg_accuracy:.4f}, Test F1-Score: {avg_f1:.4f}\")\n",
        "\n",
        "    return avg_test_loss, avg_accuracy, avg_f1\n",
        "\n",
        "\n",
        "def create_data_loaders(dataset, batch_size, train_size_ratio, val_size_ratio):\n",
        "    \"\"\"\n",
        "    Teilt das Dataset in Trainings-, Validierungs- und Testdatensatz auf\n",
        "    und erstellt entsprechende DataLoader.\n",
        "    \"\"\"\n",
        "    total_size = len(dataset)\n",
        "    train_size = int(train_size_ratio * total_size)\n",
        "    val_size = max(1, int(val_size_ratio * total_size))\n",
        "    test_size = total_size - train_size - val_size\n",
        "\n",
        "    if test_size < 1:\n",
        "        test_size = 1\n",
        "        train_size -= 1\n",
        "    if val_size < 1:\n",
        "        val_size = 1\n",
        "        train_size -= 1\n",
        "\n",
        "    logger.info(f\"Datensätze Größen: train_size={train_size}, val_size={val_size}, test_size={test_size}\")\n",
        "\n",
        "    train_dataset, val_dataset, test_dataset = random_split(dataset, [train_size, val_size, test_size])\n",
        "    train_dataloader = DataLoader(train_dataset, batch_size=batch_size, shuffle=True)\n",
        "    val_dataloader = DataLoader(val_dataset, batch_size=batch_size, shuffle=False)\n",
        "    test_dataloader = DataLoader(test_dataset, batch_size=batch_size, shuffle=False)\n",
        "\n",
        "    return train_dataloader, val_dataloader, test_dataloader\n",
        "\n",
        "\n",
        "def load_and_prepare_data(config: Config, tokenizer, vocab):\n",
        "    \"\"\"\n",
        "    Erstellt das TextDataset und packt es in DataLoader für Training, Validierung und Test.\n",
        "    \"\"\"\n",
        "    dataset = TextDataset(config.data_path, tokenizer, vocab, config.max_seq_length)\n",
        "    train_dataloader, val_dataloader, test_dataloader = create_data_loaders(\n",
        "        dataset,\n",
        "        config.batch_size,\n",
        "        config.train_size_ratio,\n",
        "        config.val_size_ratio\n",
        "    )\n",
        "    return train_dataloader, val_dataloader, test_dataloader\n",
        "\n",
        "\n",
        "def create_model_and_optimizer(config: Config, vocab_len):\n",
        "    \"\"\"\n",
        "    Erzeugt das Controller-Modell sowie den Optimizer, die Loss-Funktion und einen Scheduler.\n",
        "    \"\"\"\n",
        "    model = Controller(\n",
        "        config.embedding_dim,\n",
        "        config.embedding_dim,  # memory_embedding_size = embedding_dim\n",
        "        vocab_len,\n",
        "        config.memory_size,\n",
        "        DEVICE\n",
        "    ).to(DEVICE)\n",
        "\n",
        "    optimizer = optim.AdamW(model.parameters(), lr=config.learning_rate, weight_decay=1e-4)\n",
        "    criterion = nn.CrossEntropyLoss()\n",
        "    scheduler = optim.lr_scheduler.CosineAnnealingLR(optimizer, T_max=10, eta_min=1e-6)\n",
        "    return model, optimizer, criterion, scheduler\n",
        "\n",
        "\n",
        "def create_vocabulary(config: Config):\n",
        "    \"\"\"\n",
        "    Liest die Datei ein und baut anhand der Tokens ein Vokabular auf,\n",
        "    inklusive Sondertokens wie <pad>, <unk>, <sos> und <eos>.\n",
        "    \"\"\"\n",
        "    tokenizer = lambda text: create_tokenizer(text)\n",
        "    special_tokens = [\"<pad>\", \"<unk>\", \"<sos>\", \"<eos>\"]\n",
        "\n",
        "    def yield_tokens(file_path: str) -> Iterator[List[str]]:\n",
        "        try:\n",
        "            with open(file_path, \"r\", encoding=\"utf-8\") as f:\n",
        "                for line in f:\n",
        "                    yield tokenizer(line.strip())\n",
        "        except Exception as e:\n",
        "            logger.error(f\"Fehler beim Einlesen der Datei: {e}\")\n",
        "            raise\n",
        "\n",
        "    vocab = create_vocab_from_iterator(\n",
        "        yield_tokens(config.data_path),\n",
        "        special_tokens\n",
        "    )\n",
        "    vocab.set_default_index(vocab[\"<unk>\"])\n",
        "    return tokenizer, vocab\n",
        "\n",
        "\n",
        "def plot_training(train_losses, val_losses, test_accuracies, test_f1_scores):\n",
        "    \"\"\"\n",
        "    Zeichnet die Trainings- und Validierungsverluste sowie die Testgenauigkeit und den F1-Score.\n",
        "    \"\"\"\n",
        "    plt.figure(figsize=(12, 6))\n",
        "\n",
        "    plt.subplot(1, 2, 1)\n",
        "    plt.plot(train_losses, label='Trainingsverlust')\n",
        "    plt.plot(val_losses, label='Validierungsverlust')\n",
        "    plt.xlabel('Epoche')\n",
        "    plt.ylabel('Verlust')\n",
        "    plt.legend()\n",
        "    plt.title('Trainings- und Validierungsverlust')\n",
        "\n",
        "    plt.subplot(1, 2, 2)\n",
        "    plt.plot(test_accuracies, label='Testgenauigkeit')\n",
        "    plt.plot(test_f1_scores, label='Test F1-Score')\n",
        "    plt.xlabel('Epoche')\n",
        "    plt.ylabel('Metrik')\n",
        "    plt.legend()\n",
        "    plt.title('Testgenauigkeit und F1-Score')\n",
        "\n",
        "    plt.tight_layout()\n",
        "    plt.show()\n",
        "\n",
        "\n",
        "def setup_training(config: Config, tokenizer, vocab):\n",
        "    \"\"\"\n",
        "    Initialisiert das Modell, den Optimizer, die Loss-Funktion sowie\n",
        "    die DataLoader für Training, Validierung und Test.\n",
        "    \"\"\"\n",
        "    model, optimizer, criterion, scheduler = create_model_and_optimizer(config, len(vocab))\n",
        "    train_dataloader, val_dataloader, test_dataloader = load_and_prepare_data(config, tokenizer, vocab)\n",
        "    return model, optimizer, criterion, scheduler, train_dataloader, val_dataloader, test_dataloader\n",
        "\n",
        "\n",
        "def run_training_loop(\n",
        "    model: nn.Module,\n",
        "    config: Config,\n",
        "    optimizer: optim.Optimizer,\n",
        "    criterion,\n",
        "    scheduler: optim.lr_scheduler,\n",
        "    train_dataloader: DataLoader,\n",
        "    val_dataloader: DataLoader,\n",
        "    test_dataloader: DataLoader,\n",
        "    vocab: Vocabulary\n",
        ") -> Tuple[List[float], List[float], List[float], List[float]]:\n",
        "    \"\"\"\n",
        "    Führt den gesamten Trainingsprozess über mehrere Epochen durch,\n",
        "    inklusive Validierung und Test-Evaluierung pro Epoche.\n",
        "    \"\"\"\n",
        "    best_val_loss = float('inf')\n",
        "    best_model_state = None\n",
        "    epochs_no_improve = 0\n",
        "    patience = config.patience\n",
        "    save_path = Path(config.save_path)\n",
        "    save_path.mkdir(parents=True, exist_ok=True)\n",
        "\n",
        "    train_losses = []\n",
        "    val_losses = []\n",
        "    test_accuracies = []\n",
        "    test_f1_scores = []\n",
        "\n",
        "    for epoch in range(config.epochs):\n",
        "        try:\n",
        "            logger.info(f\"Epoche {epoch + 1} gestartet.\")\n",
        "            train_loss = train_model_epoch(\n",
        "                model,\n",
        "                train_dataloader,\n",
        "                optimizer,\n",
        "                criterion,\n",
        "                epoch,\n",
        "                accumulation_steps=config.accumulation_steps,\n",
        "                write_strength=config.write_strength,\n",
        "                clip_value=1.0\n",
        "            )\n",
        "\n",
        "            val_loss = validate_model(model, val_dataloader, criterion)\n",
        "            if val_loss == float('inf'):\n",
        "                logger.warning(\"Validierung wurde übersprungen.\")\n",
        "            else:\n",
        "                scheduler.step()\n",
        "                if val_loss < best_val_loss:\n",
        "                    best_val_loss = val_loss\n",
        "                    best_model_state = model.state_dict()\n",
        "                    epochs_no_improve = 0\n",
        "                    torch.save(model.state_dict(), save_path / f\"memory_model_epoch_{epoch + 1}.pth\")\n",
        "                else:\n",
        "                    epochs_no_improve += 1\n",
        "\n",
        "                if epochs_no_improve > patience:\n",
        "                    logger.info(\"Vorzeitiger Abbruch ausgelöst (Early Stopping).\")\n",
        "                    print(\"Training wird vorzeitig abgebrochen.\")\n",
        "                    break\n",
        "\n",
        "            # Neue, speicherschonende Evaluierung\n",
        "            test_loss, accuracy, f1 = evaluate_model(model, test_dataloader, criterion, vocab)\n",
        "\n",
        "            # Sammeln der Verlaufsdaten\n",
        "            train_losses.append(train_loss)\n",
        "            val_losses.append(val_loss)\n",
        "            test_accuracies.append(accuracy)\n",
        "            test_f1_scores.append(f1)\n",
        "\n",
        "        except Exception as e:\n",
        "            logger.error(f\"Fehler in Epoche {epoch}: {e}\")\n",
        "            print(f\"Fehler in Epoche {epoch}: {e}\")\n",
        "            break\n",
        "\n",
        "    # Letzte Evaluation nach dem Training\n",
        "    test_loss, accuracy, f1 = evaluate_model(model, test_dataloader, criterion, vocab)\n",
        "    return train_losses, val_losses, test_accuracies, test_f1_scores\n",
        "\n",
        "\n",
        "def save_best_model(\n",
        "    config: Config,\n",
        "    model: nn.Module,\n",
        "    vocab: Vocabulary,\n",
        "    train_losses: List[float],\n",
        "    val_losses: List[float],\n",
        "    test_accuracies: List[float],\n",
        "    test_f1_scores: List[float]\n",
        "):\n",
        "    \"\"\"\n",
        "    Speichert das Modell und die Konfiguration in einer Datei ab.\n",
        "    \"\"\"\n",
        "    config_to_save = config.save_config()\n",
        "    torch.save({\n",
        "        'model_state_dict': model.state_dict(),\n",
        "        'vocab': vocab,\n",
        "        'config': config_to_save\n",
        "    }, Path(config.save_path) / \"memory_model.pth\")\n",
        "    logger.info(\"Bestes Modell und Vokabular erfolgreich gespeichert!\")\n",
        "    print(\"Bestes Modell erfolgreich gespeichert.\")\n",
        "\n",
        "\n",
        "# --------------------------------------------------\n",
        "# 5) Optuna-Objective und Haupt-Trainingsfunktion\n",
        "# --------------------------------------------------\n",
        "def objective(trial: optuna.Trial, config: Config) -> float:\n",
        "    \"\"\"\n",
        "    Objective-Funktion für Optuna. Wählt verschiedene Hyperparameter und\n",
        "    gibt den besten Validierungsverlust zurück.\n",
        "    \"\"\"\n",
        "    # Hyperparameter definieren\n",
        "    # Tipp: verringern Sie ggf. die max. Grenzen (z. B. memory_size <= 1024),\n",
        "    # damit weniger RAM/GPU-Speicher benötigt wird.\n",
        "    config.embedding_dim = trial.suggest_int('embedding_dim', 128, 2048, step=128)\n",
        "    config.memory_size = trial.suggest_int('memory_size', 256, 4096, step=256)\n",
        "    # Ab Optuna 3.0: suggest_float(..., log=True) statt suggest_loguniform\n",
        "    config.learning_rate = trial.suggest_float('learning_rate', 1e-5, 1e-2, log=True)\n",
        "    config.batch_size = trial.suggest_categorical('batch_size', [8, 16, 32, 64])\n",
        "    config.accumulation_steps = trial.suggest_int('accumulation_steps', 1, 10)\n",
        "    config.epochs = trial.suggest_int('epochs', 50, 200, step=50)\n",
        "    config.write_strength = trial.suggest_float('write_strength', 0.01, 0.1, log=True)\n",
        "\n",
        "    # Vokabular erzeugen und Setup\n",
        "    tokenizer, vocab = create_vocabulary(config)\n",
        "    model, optimizer, criterion, scheduler, train_dataloader, val_dataloader, test_dataloader = setup_training(config, tokenizer, vocab)\n",
        "\n",
        "    # Trainingsloop\n",
        "    train_losses, val_losses, test_accuracies, test_f1_scores = run_training_loop(\n",
        "        model,\n",
        "        config,\n",
        "        optimizer,\n",
        "        criterion,\n",
        "        scheduler,\n",
        "        train_dataloader,\n",
        "        val_dataloader,\n",
        "        test_dataloader,\n",
        "        vocab\n",
        "    )\n",
        "\n",
        "    # Bester Validierungsverlust\n",
        "    best_val_loss = min(val_losses) if len(val_losses) > 0 else float('inf')\n",
        "    return best_val_loss\n",
        "\n",
        "\n",
        "def train_model(config: Config):\n",
        "    \"\"\"\n",
        "    Haupt-Einstiegspunkt für das Training:\n",
        "    1) Erzeugt eine Optuna-Studie,\n",
        "    2) Optimiert die Hyperparameter,\n",
        "    3) Lädt die besten Hyperparameter ins Config-Objekt,\n",
        "    4) Führt das Training final mit diesen Parametern aus,\n",
        "    5) Speichert das beste Modell und erzeugt Trainingsplots.\n",
        "    \"\"\"\n",
        "    print(\"train_model() gestartet.\")\n",
        "    logger.info(\"train_model() gestartet.\")\n",
        "\n",
        "    # Optuna-Studie erstellen\n",
        "    study = optuna.create_study(direction='minimize')\n",
        "    study.optimize(lambda trial: objective(trial, config), n_trials=50, n_jobs=1, timeout=3600)\n",
        "\n",
        "    # Beste Hyperparameter\n",
        "    print(\"Beste Hyperparameter: \", study.best_params)\n",
        "    logger.info(f\"Beste Hyperparameter: {study.best_params}\")\n",
        "\n",
        "    # Dictionary-Update via load_config(...)\n",
        "    config.load_config(study.best_params)\n",
        "\n",
        "    # Erneutes Setup mit besten Parametern\n",
        "    tokenizer, vocab = create_vocabulary(config)\n",
        "    model, optimizer, criterion, scheduler, train_dataloader, val_dataloader, test_dataloader = setup_training(config, tokenizer, vocab)\n",
        "\n",
        "    # Finale Trainingsschleife\n",
        "    train_losses, val_losses, test_accuracies, test_f1_scores = run_training_loop(\n",
        "        model,\n",
        "        config,\n",
        "        optimizer,\n",
        "        criterion,\n",
        "        scheduler,\n",
        "        train_dataloader,\n",
        "        val_dataloader,\n",
        "        test_dataloader,\n",
        "        vocab\n",
        "    )\n",
        "\n",
        "    # Speichern des besten Modells\n",
        "    save_best_model(config, model, vocab, train_losses, val_losses, test_accuracies, test_f1_scores)\n",
        "\n",
        "    # Plotten der Trainingsverläufe\n",
        "    plot_training(train_losses, val_losses, test_accuracies, test_f1_scores)\n",
        "\n",
        "    print(\"train_model() abgeschlossen.\")\n",
        "    logger.info(\"train_model() abgeschlossen.\")\n",
        "\n",
        "\n",
        "# --------------------------------------------------\n",
        "# 6) Hauptausführung\n",
        "# --------------------------------------------------\n",
        "if __name__ == \"__main__\":\n",
        "    # Startet den Trainingsprozess\n",
        "    train_model(CONFIG)\n"
      ]
    }
  ]
}